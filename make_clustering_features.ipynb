{
 "cells": [
  {
   "cell_type": "markdown",
   "metadata": {},
   "source": [
    "# Make Clustering Datase\n",
    "This script creates a dataframe with different features calculated from the original price changes dataframe and the stations dataframe. The goal is to apply clustering methods on this dataset in order to be able to cluster the different kind of stations."
   ]
  },
  {
   "cell_type": "code",
   "execution_count": 16,
   "metadata": {},
   "outputs": [],
   "source": [
    "import pandas as pd\n",
    "import matplotlib.pyplot as plt\n",
    "import numpy as np\n",
    "from scipy.stats import skew, kurtosis\n",
    "from scipy.signal import find_peaks\n",
    "import warnings\n",
    "warnings.filterwarnings(\"ignore\")\n",
    "import refuel_tools as rt"
   ]
  },
  {
   "cell_type": "markdown",
   "metadata": {},
   "source": [
    "## Loading the data"
   ]
  },
  {
   "cell_type": "code",
   "execution_count": 2,
   "metadata": {},
   "outputs": [],
   "source": [
    "df_stations = pd.read_csv('./tankerkoenig-data/stations/stations.csv')"
   ]
  },
  {
   "cell_type": "code",
   "execution_count": 4,
   "metadata": {},
   "outputs": [],
   "source": [
    "df = pd.read_pickle(\"./data/df_FULL_365.pkl\", compression='xz')"
   ]
  },
  {
   "cell_type": "code",
   "execution_count": 8,
   "metadata": {},
   "outputs": [],
   "source": [
    "# There are 6 gas station with Zeros as latitude/longitude, so I will drop those!\n",
    "df_stations = df_stations[df_stations.latitude != 0]"
   ]
  },
  {
   "cell_type": "code",
   "execution_count": 9,
   "metadata": {},
   "outputs": [
    {
     "data": {
      "text/html": [
       "<div>\n",
       "<style scoped>\n",
       "    .dataframe tbody tr th:only-of-type {\n",
       "        vertical-align: middle;\n",
       "    }\n",
       "\n",
       "    .dataframe tbody tr th {\n",
       "        vertical-align: top;\n",
       "    }\n",
       "\n",
       "    .dataframe thead th {\n",
       "        text-align: right;\n",
       "    }\n",
       "</style>\n",
       "<table border=\"1\" class=\"dataframe\">\n",
       "  <thead>\n",
       "    <tr style=\"text-align: right;\">\n",
       "      <th></th>\n",
       "      <th>uuid</th>\n",
       "      <th>name</th>\n",
       "      <th>brand</th>\n",
       "      <th>street</th>\n",
       "      <th>house_number</th>\n",
       "      <th>post_code</th>\n",
       "      <th>city</th>\n",
       "      <th>latitude</th>\n",
       "      <th>longitude</th>\n",
       "    </tr>\n",
       "  </thead>\n",
       "  <tbody>\n",
       "    <tr>\n",
       "      <th>0</th>\n",
       "      <td>00060723-0001-4444-8888-acdc00000001</td>\n",
       "      <td>BAGeno Raiffeisen eG</td>\n",
       "      <td>NaN</td>\n",
       "      <td>Künzelsauer Strasse</td>\n",
       "      <td>7</td>\n",
       "      <td>74653</td>\n",
       "      <td>Ingelfingen</td>\n",
       "      <td>49.296822</td>\n",
       "      <td>9.661385</td>\n",
       "    </tr>\n",
       "    <tr>\n",
       "      <th>1</th>\n",
       "      <td>005056ba-7cb6-1ed2-bceb-5332ab168d12</td>\n",
       "      <td>famila Tankstelle</td>\n",
       "      <td>FAMILA</td>\n",
       "      <td>Pascalstrasse</td>\n",
       "      <td>9</td>\n",
       "      <td>25442</td>\n",
       "      <td>Quickborn</td>\n",
       "      <td>53.742150</td>\n",
       "      <td>9.941240</td>\n",
       "    </tr>\n",
       "    <tr>\n",
       "      <th>2</th>\n",
       "      <td>005056ba-7cb6-1ed2-bceb-573c18314d16</td>\n",
       "      <td>star Tankstelle</td>\n",
       "      <td>STAR</td>\n",
       "      <td>Riehler Strasse</td>\n",
       "      <td>240</td>\n",
       "      <td>50735</td>\n",
       "      <td>Köln</td>\n",
       "      <td>50.961800</td>\n",
       "      <td>6.980070</td>\n",
       "    </tr>\n",
       "    <tr>\n",
       "      <th>3</th>\n",
       "      <td>005056ba-7cb6-1ed2-bceb-662ba1a94d1f</td>\n",
       "      <td>star Tankstelle</td>\n",
       "      <td>STAR</td>\n",
       "      <td>BAB 10 / Seeberg Ost</td>\n",
       "      <td>NaN</td>\n",
       "      <td>15345</td>\n",
       "      <td>Altlandsberg</td>\n",
       "      <td>52.550160</td>\n",
       "      <td>13.682120</td>\n",
       "    </tr>\n",
       "    <tr>\n",
       "      <th>4</th>\n",
       "      <td>005056ba-7cb6-1ed2-bceb-6f7b23564d23</td>\n",
       "      <td>star Tankstelle</td>\n",
       "      <td>STAR</td>\n",
       "      <td>Duisburger Straße</td>\n",
       "      <td>130</td>\n",
       "      <td>47166</td>\n",
       "      <td>Duisburg</td>\n",
       "      <td>51.489790</td>\n",
       "      <td>6.783730</td>\n",
       "    </tr>\n",
       "  </tbody>\n",
       "</table>\n",
       "</div>"
      ],
      "text/plain": [
       "                                   uuid                  name   brand  \\\n",
       "0  00060723-0001-4444-8888-acdc00000001  BAGeno Raiffeisen eG     NaN   \n",
       "1  005056ba-7cb6-1ed2-bceb-5332ab168d12     famila Tankstelle  FAMILA   \n",
       "2  005056ba-7cb6-1ed2-bceb-573c18314d16       star Tankstelle    STAR   \n",
       "3  005056ba-7cb6-1ed2-bceb-662ba1a94d1f       star Tankstelle    STAR   \n",
       "4  005056ba-7cb6-1ed2-bceb-6f7b23564d23       star Tankstelle    STAR   \n",
       "\n",
       "                 street house_number post_code          city   latitude  \\\n",
       "0   Künzelsauer Strasse            7     74653  Ingelfingen   49.296822   \n",
       "1         Pascalstrasse            9     25442     Quickborn  53.742150   \n",
       "2       Riehler Strasse          240     50735          Köln  50.961800   \n",
       "3  BAB 10 / Seeberg Ost          NaN     15345  Altlandsberg  52.550160   \n",
       "4     Duisburger Straße          130     47166      Duisburg  51.489790   \n",
       "\n",
       "   longitude  \n",
       "0   9.661385  \n",
       "1   9.941240  \n",
       "2   6.980070  \n",
       "3  13.682120  \n",
       "4   6.783730  "
      ]
     },
     "execution_count": 9,
     "metadata": {},
     "output_type": "execute_result"
    }
   ],
   "source": [
    "df_stations.head()"
   ]
  },
  {
   "cell_type": "code",
   "execution_count": 11,
   "metadata": {},
   "outputs": [],
   "source": [
    "# Building a tree from all the given stations\n",
    "from scipy.spatial import cKDTree\n",
    "tree = cKDTree(np.c_[df_stations.latitude.ravel(), df_stations.longitude.ravel()])\n",
    "\n",
    "\n",
    "def n_neighbors_list(position, tree, radius=1):\n",
    "    \"\"\"This is a test function of n_neighbors\"\"\"\n",
    "    from scipy.spatial import cKDTree\n",
    "    from math import pi\n",
    "    neighbors = tree.query_ball_point([position[0], position[1]], radius/((6371*pi)/180.0))\n",
    "    # Faktor to transform deg to kilometer\n",
    "    #r/((6371*pi)/180.0)\n",
    "    return (len(neighbors)-1), neighbors"
   ]
  },
  {
   "cell_type": "code",
   "execution_count": 12,
   "metadata": {},
   "outputs": [
    {
     "name": "stderr",
     "output_type": "stream",
     "text": [
      "/Users/gabriel/anaconda3/envs/nf/lib/python3.6/site-packages/ipykernel_launcher.py:1: SettingWithCopyWarning: \n",
      "A value is trying to be set on a copy of a slice from a DataFrame.\n",
      "Try using .loc[row_indexer,col_indexer] = value instead\n",
      "\n",
      "See the caveats in the documentation: http://pandas.pydata.org/pandas-docs/stable/user_guide/indexing.html#returning-a-view-versus-a-copy\n",
      "  \"\"\"Entry point for launching an IPython kernel.\n",
      "/Users/gabriel/anaconda3/envs/nf/lib/python3.6/site-packages/ipykernel_launcher.py:2: SettingWithCopyWarning: \n",
      "A value is trying to be set on a copy of a slice from a DataFrame.\n",
      "Try using .loc[row_indexer,col_indexer] = value instead\n",
      "\n",
      "See the caveats in the documentation: http://pandas.pydata.org/pandas-docs/stable/user_guide/indexing.html#returning-a-view-versus-a-copy\n",
      "  \n"
     ]
    }
   ],
   "source": [
    "df_stations['neighbors_3km'] = df_stations.apply(lambda row: rt.number_of_neighbors(row, tree, radius=3), axis=1)\n",
    "df_stations['neighbors_5km'] = df_stations.apply(lambda row: number_of_neighbors(row, tree, radius=5), axis=1)"
   ]
  },
  {
   "cell_type": "code",
   "execution_count": 13,
   "metadata": {},
   "outputs": [
    {
     "data": {
      "text/html": [
       "<div>\n",
       "<style scoped>\n",
       "    .dataframe tbody tr th:only-of-type {\n",
       "        vertical-align: middle;\n",
       "    }\n",
       "\n",
       "    .dataframe tbody tr th {\n",
       "        vertical-align: top;\n",
       "    }\n",
       "\n",
       "    .dataframe thead th {\n",
       "        text-align: right;\n",
       "    }\n",
       "</style>\n",
       "<table border=\"1\" class=\"dataframe\">\n",
       "  <thead>\n",
       "    <tr style=\"text-align: right;\">\n",
       "      <th></th>\n",
       "      <th>uuid</th>\n",
       "      <th>name</th>\n",
       "      <th>brand</th>\n",
       "      <th>street</th>\n",
       "      <th>house_number</th>\n",
       "      <th>post_code</th>\n",
       "      <th>city</th>\n",
       "      <th>latitude</th>\n",
       "      <th>longitude</th>\n",
       "      <th>neighbors_3km</th>\n",
       "      <th>neighbors_5km</th>\n",
       "    </tr>\n",
       "  </thead>\n",
       "  <tbody>\n",
       "    <tr>\n",
       "      <th>0</th>\n",
       "      <td>00060723-0001-4444-8888-acdc00000001</td>\n",
       "      <td>BAGeno Raiffeisen eG</td>\n",
       "      <td>NaN</td>\n",
       "      <td>Künzelsauer Strasse</td>\n",
       "      <td>7</td>\n",
       "      <td>74653</td>\n",
       "      <td>Ingelfingen</td>\n",
       "      <td>49.296822</td>\n",
       "      <td>9.661385</td>\n",
       "      <td>2</td>\n",
       "      <td>4</td>\n",
       "    </tr>\n",
       "    <tr>\n",
       "      <th>1</th>\n",
       "      <td>005056ba-7cb6-1ed2-bceb-5332ab168d12</td>\n",
       "      <td>famila Tankstelle</td>\n",
       "      <td>FAMILA</td>\n",
       "      <td>Pascalstrasse</td>\n",
       "      <td>9</td>\n",
       "      <td>25442</td>\n",
       "      <td>Quickborn</td>\n",
       "      <td>53.742150</td>\n",
       "      <td>9.941240</td>\n",
       "      <td>3</td>\n",
       "      <td>6</td>\n",
       "    </tr>\n",
       "    <tr>\n",
       "      <th>2</th>\n",
       "      <td>005056ba-7cb6-1ed2-bceb-573c18314d16</td>\n",
       "      <td>star Tankstelle</td>\n",
       "      <td>STAR</td>\n",
       "      <td>Riehler Strasse</td>\n",
       "      <td>240</td>\n",
       "      <td>50735</td>\n",
       "      <td>Köln</td>\n",
       "      <td>50.961800</td>\n",
       "      <td>6.980070</td>\n",
       "      <td>10</td>\n",
       "      <td>24</td>\n",
       "    </tr>\n",
       "    <tr>\n",
       "      <th>3</th>\n",
       "      <td>005056ba-7cb6-1ed2-bceb-662ba1a94d1f</td>\n",
       "      <td>star Tankstelle</td>\n",
       "      <td>STAR</td>\n",
       "      <td>BAB 10 / Seeberg Ost</td>\n",
       "      <td>NaN</td>\n",
       "      <td>15345</td>\n",
       "      <td>Altlandsberg</td>\n",
       "      <td>52.550160</td>\n",
       "      <td>13.682120</td>\n",
       "      <td>3</td>\n",
       "      <td>5</td>\n",
       "    </tr>\n",
       "    <tr>\n",
       "      <th>4</th>\n",
       "      <td>005056ba-7cb6-1ed2-bceb-6f7b23564d23</td>\n",
       "      <td>star Tankstelle</td>\n",
       "      <td>STAR</td>\n",
       "      <td>Duisburger Straße</td>\n",
       "      <td>130</td>\n",
       "      <td>47166</td>\n",
       "      <td>Duisburg</td>\n",
       "      <td>51.489790</td>\n",
       "      <td>6.783730</td>\n",
       "      <td>9</td>\n",
       "      <td>14</td>\n",
       "    </tr>\n",
       "  </tbody>\n",
       "</table>\n",
       "</div>"
      ],
      "text/plain": [
       "                                   uuid                  name   brand  \\\n",
       "0  00060723-0001-4444-8888-acdc00000001  BAGeno Raiffeisen eG     NaN   \n",
       "1  005056ba-7cb6-1ed2-bceb-5332ab168d12     famila Tankstelle  FAMILA   \n",
       "2  005056ba-7cb6-1ed2-bceb-573c18314d16       star Tankstelle    STAR   \n",
       "3  005056ba-7cb6-1ed2-bceb-662ba1a94d1f       star Tankstelle    STAR   \n",
       "4  005056ba-7cb6-1ed2-bceb-6f7b23564d23       star Tankstelle    STAR   \n",
       "\n",
       "                 street house_number post_code          city   latitude  \\\n",
       "0   Künzelsauer Strasse            7     74653  Ingelfingen   49.296822   \n",
       "1         Pascalstrasse            9     25442     Quickborn  53.742150   \n",
       "2       Riehler Strasse          240     50735          Köln  50.961800   \n",
       "3  BAB 10 / Seeberg Ost          NaN     15345  Altlandsberg  52.550160   \n",
       "4     Duisburger Straße          130     47166      Duisburg  51.489790   \n",
       "\n",
       "   longitude  neighbors_3km  neighbors_5km  \n",
       "0   9.661385              2              4  \n",
       "1   9.941240              3              6  \n",
       "2   6.980070             10             24  \n",
       "3  13.682120              3              5  \n",
       "4   6.783730              9             14  "
      ]
     },
     "execution_count": 13,
     "metadata": {},
     "output_type": "execute_result"
    }
   ],
   "source": [
    "df_stations.head()"
   ]
  },
  {
   "cell_type": "code",
   "execution_count": 17,
   "metadata": {},
   "outputs": [],
   "source": [
    "df_stations.name = df_stations.name.str.lower()\n",
    "df_stations.name = df_stations.name.str.replace(' ','_')\n",
    "\n",
    "nan_stations = df_stations[df_stations.brand.isna()]\n",
    "bft_index = nan_stations[nan_stations.name.str.contains('bft')].index\n",
    "df_stations.iloc[bft_index,2] = 'bft'\n",
    "df_stations.brand = df_stations.brand.str.lower()\n",
    "df_stations.brand = df_stations.brand.str.replace(' ','_')"
   ]
  },
  {
   "cell_type": "markdown",
   "metadata": {},
   "source": [
    "The are 64 stations of those nan stations containing bft (bundesverband freier tankstellen) in the name. I will label those brands as bft. "
   ]
  },
  {
   "cell_type": "code",
   "execution_count": 19,
   "metadata": {},
   "outputs": [],
   "source": [
    "df_stations.brand.fillna('other', inplace=True)"
   ]
  },
  {
   "cell_type": "code",
   "execution_count": 20,
   "metadata": {},
   "outputs": [],
   "source": [
    "df.date = pd.to_datetime(df.date, utc=True).dt.tz_convert('Europe/Berlin')"
   ]
  },
  {
   "cell_type": "code",
   "execution_count": 21,
   "metadata": {},
   "outputs": [],
   "source": [
    "def get_ts_features(group):\n",
    "    \"\"\"\n",
    "    This function takes in a groupby object and calulates various statistical values from it.\n",
    "    \n",
    "    INPUT: \n",
    "        group = [pd groupby object] grouped by the uuid\n",
    "    OUTPUT:\n",
    "        various statistical informations as floats\n",
    "    \"\"\"\n",
    "    # Number of prices changes in period\n",
    "    changes_diesel = group.dieselchange.sum()\n",
    "    changes_e5 = group.e5change.sum()\n",
    "    changes_e10 = group.e10change.sum()\n",
    "    \n",
    "    # Stats infos\n",
    "    skewness_diesel = skew(group.diesel)\n",
    "    skewness_e5 = skew(group.e5)\n",
    "    skewness_e10 = skew(group.e10)\n",
    "    \n",
    "    kurtosis_diesel = kurtosis(group.diesel)\n",
    "    kurtosis_e5 = kurtosis(group.e5)\n",
    "    kurtosis_e10 = kurtosis(group.e10)\n",
    "    \n",
    "    var_diesel = np.var(group.diesel)\n",
    "    var_e5 = np.var(group.e5)\n",
    "    var_e10 = np.var(group.e10)\n",
    "    \n",
    "    mean_diesel = np.mean(group.diesel)\n",
    "    mean_e5 = np.mean(group.e5)\n",
    "    mean_e10 = np.mean(group.e10)\n",
    "    \n",
    "    median_diesel = np.median(group.diesel)\n",
    "    median_e5 = np.median(group.e5)\n",
    "    median_e10 = np.median(group.e10)\n",
    "    \n",
    "    min_diesel = np.min(group.diesel)\n",
    "    min_e5 = np.min(group.e5)\n",
    "    min_e10 = np.min(group.e10)\n",
    "    \n",
    "    max_diesel = np.max(group.diesel)\n",
    "    max_e5 = np.max(group.e5)\n",
    "    max_e10 = np.max(group.e10)\n",
    "    \n",
    "    # Number of price peaks in period\n",
    "    peaks, _ = find_peaks(group.diesel)\n",
    "    n_peaks_diesel = len(peaks)\n",
    "    peaks, _ = find_peaks(group.e5)\n",
    "    n_peaks_e5 = len(peaks)\n",
    "    peaks, _ = find_peaks(group.e10)\n",
    "    n_peaks_e10 = len(peaks)\n",
    "    \n",
    "    return changes_diesel, changes_e5, changes_e10, skewness_diesel, skewness_e5, skewness_e10, \\\n",
    "kurtosis_diesel, kurtosis_e5, kurtosis_e10, var_diesel, var_e5, var_e10, mean_diesel, mean_e5, mean_e10, \\\n",
    "median_diesel, median_e5, median_e10, n_peaks_diesel, n_peaks_e5, n_peaks_e10, \\\n",
    "min_diesel, min_e5, min_e10, max_diesel, max_e5, max_e10\n"
   ]
  },
  {
   "cell_type": "code",
   "execution_count": 22,
   "metadata": {},
   "outputs": [],
   "source": [
    "col_names = 'changes_diesel, changes_e5, changes_e10, skewness_diesel, skewness_e5, skewness_e10, kurtosis_diesel, kurtosis_e5, kurtosis_e10, var_diesel, var_e5, var_e10, mean_diesel, mean_e5, mean_e10, median_diesel, median_e5, median_e10, n_peaks_diesel, n_peaks_e5, n_peaks_e10, min_diesel, min_e5, min_e10, max_diesel, max_e5, max_e10' "
   ]
  },
  {
   "cell_type": "code",
   "execution_count": 23,
   "metadata": {},
   "outputs": [],
   "source": [
    "col_list = col_names.split(\", \")"
   ]
  },
  {
   "cell_type": "code",
   "execution_count": 26,
   "metadata": {},
   "outputs": [],
   "source": [
    "features = df.groupby(df.station_uuid).apply(rt.get_ts_features)"
   ]
  },
  {
   "cell_type": "code",
   "execution_count": 27,
   "metadata": {},
   "outputs": [],
   "source": [
    "df_ts_features = pd.DataFrame.from_items(zip(features.index, features.values)).T"
   ]
  },
  {
   "cell_type": "code",
   "execution_count": 28,
   "metadata": {},
   "outputs": [],
   "source": [
    "df_ts_features.columns = col_list"
   ]
  },
  {
   "cell_type": "markdown",
   "metadata": {},
   "source": [
    "## Let's look at the data:\n",
    "\n",
    "### First the distribution of the number of peaks for all fuels:"
   ]
  },
  {
   "cell_type": "code",
   "execution_count": 29,
   "metadata": {},
   "outputs": [
    {
     "data": {
      "text/plain": [
       "<matplotlib.axes._subplots.AxesSubplot at 0x1c9dfeb358>"
      ]
     },
     "execution_count": 29,
     "metadata": {},
     "output_type": "execute_result"
    },
    {
     "data": {
      "image/png": "[encoded data removed]",
      "text/plain": [
       "<Figure size 432x288 with 1 Axes>"
      ]
     },
     "metadata": {
      "needs_background": "light"
     },
     "output_type": "display_data"
    }
   ],
   "source": [
    "df_ts_features.n_peaks_diesel.plot(kind='hist', bins=100, alpha=.6)\n",
    "df_ts_features.n_peaks_e5.plot(kind='hist', bins=100,alpha=.4)\n",
    "df_ts_features.n_peaks_e10.plot(kind='hist', bins=100, alpha=.4)\n",
    "#plt.xlim([10,250])"
   ]
  },
  {
   "cell_type": "code",
   "execution_count": 30,
   "metadata": {},
   "outputs": [
    {
     "data": {
      "text/plain": [
       "0.0       309\n",
       "1308.0     98\n",
       "1309.0     96\n",
       "1311.0     88\n",
       "1307.0     80\n",
       "         ... \n",
       "2222.0      1\n",
       "431.0       1\n",
       "634.0       1\n",
       "1742.0      1\n",
       "404.0       1\n",
       "Name: n_peaks_e5, Length: 1722, dtype: int64"
      ]
     },
     "execution_count": 30,
     "metadata": {},
     "output_type": "execute_result"
    }
   ],
   "source": [
    "df_ts_features.n_peaks_e5.value_counts()"
   ]
  },
  {
   "cell_type": "code",
   "execution_count": 31,
   "metadata": {},
   "outputs": [
    {
     "data": {
      "text/plain": [
       "<matplotlib.axes._subplots.AxesSubplot at 0x1c1e1120f0>"
      ]
     },
     "execution_count": 31,
     "metadata": {},
     "output_type": "execute_result"
    },
    {
     "data": {
      "image/png": "[encoded data removed]",
      "text/plain": [
       "<Figure size 432x288 with 1 Axes>"
      ]
     },
     "metadata": {
      "needs_background": "light"
     },
     "output_type": "display_data"
    }
   ],
   "source": [
    "df_ts_features.changes_diesel.plot(kind='hist', bins=100, alpha=.4)\n",
    "df_ts_features.changes_e5.plot(kind='hist', bins=100,alpha=.4)\n",
    "df_ts_features.changes_e10.plot(kind='hist', bins=100, alpha=.4)"
   ]
  },
  {
   "cell_type": "markdown",
   "metadata": {},
   "source": [
    "## Skeness"
   ]
  },
  {
   "cell_type": "code",
   "execution_count": 32,
   "metadata": {},
   "outputs": [
    {
     "data": {
      "image/png": "[encoded data removed]",
      "text/plain": [
       "<Figure size 432x288 with 1 Axes>"
      ]
     },
     "metadata": {
      "needs_background": "light"
     },
     "output_type": "display_data"
    }
   ],
   "source": [
    "df_ts_features.skewness_diesel.plot(kind='hist', bins=200, alpha=.4)\n",
    "df_ts_features.skewness_e5.plot(kind='hist', bins=200,alpha=.4)\n",
    "df_ts_features.skewness_e10.plot(kind='hist', bins=200, alpha=.4)\n",
    "plt.xlim([-2, 2]);"
   ]
  },
  {
   "cell_type": "markdown",
   "metadata": {},
   "source": [
    "## Kurtosis\n"
   ]
  },
  {
   "cell_type": "code",
   "execution_count": 33,
   "metadata": {},
   "outputs": [
    {
     "data": {
      "image/png": "[encoded data removed]",
      "text/plain": [
       "<Figure size 432x288 with 1 Axes>"
      ]
     },
     "metadata": {
      "needs_background": "light"
     },
     "output_type": "display_data"
    }
   ],
   "source": [
    "df_ts_features.kurtosis_diesel.plot(kind='hist', alpha=.4, bins=500)\n",
    "df_ts_features.kurtosis_e5.plot(kind='hist',  alpha=.4, bins=500)\n",
    "df_ts_features.kurtosis_e10.plot(kind='hist', alpha=.4, bins=500)\n",
    "plt.xlim([-3, 0]);"
   ]
  },
  {
   "cell_type": "markdown",
   "metadata": {},
   "source": [
    "## Mean"
   ]
  },
  {
   "cell_type": "code",
   "execution_count": 34,
   "metadata": {},
   "outputs": [
    {
     "data": {
      "image/png": "[encoded data removed]",
      "text/plain": [
       "<Figure size 432x288 with 1 Axes>"
      ]
     },
     "metadata": {
      "needs_background": "light"
     },
     "output_type": "display_data"
    }
   ],
   "source": [
    "df_ts_features.mean_diesel.plot(kind='hist', alpha=.4, bins=300)\n",
    "df_ts_features.mean_e5.plot(kind='hist',  alpha=.4, bins=300)\n",
    "df_ts_features.mean_e10.plot(kind='hist', alpha=.4, bins=300)\n",
    "plt.xlim([1, 2]);"
   ]
  },
  {
   "cell_type": "markdown",
   "metadata": {},
   "source": [
    "## Median"
   ]
  },
  {
   "cell_type": "code",
   "execution_count": 35,
   "metadata": {},
   "outputs": [
    {
     "data": {
      "image/png": "[encoded data removed]",
      "text/plain": [
       "<Figure size 432x288 with 1 Axes>"
      ]
     },
     "metadata": {
      "needs_background": "light"
     },
     "output_type": "display_data"
    }
   ],
   "source": [
    "df_ts_features.median_diesel.plot(kind='hist', alpha=.4, bins=200)\n",
    "df_ts_features.median_e5.plot(kind='hist',  alpha=.4, bins=200)\n",
    "df_ts_features.median_e10.plot(kind='hist', alpha=.4, bins=200)\n",
    "plt.xlim([1, 2]);"
   ]
  },
  {
   "cell_type": "markdown",
   "metadata": {},
   "source": [
    "# Variance"
   ]
  },
  {
   "cell_type": "code",
   "execution_count": 36,
   "metadata": {},
   "outputs": [
    {
     "data": {
      "image/png": "[encoded data removed]",
      "text/plain": [
       "<Figure size 432x288 with 1 Axes>"
      ]
     },
     "metadata": {
      "needs_background": "light"
     },
     "output_type": "display_data"
    }
   ],
   "source": [
    "df_ts_features.var_diesel.plot(kind='hist', alpha=.4, bins=300)\n",
    "df_ts_features.var_e5.plot(kind='hist',  alpha=.4, bins=300)\n",
    "df_ts_features.var_e10.plot(kind='hist', alpha=.4, bins=300)\n",
    "plt.xlim([0, 0.01]);"
   ]
  },
  {
   "cell_type": "markdown",
   "metadata": {},
   "source": [
    "# MinMax"
   ]
  },
  {
   "cell_type": "code",
   "execution_count": 37,
   "metadata": {},
   "outputs": [
    {
     "data": {
      "text/plain": [
       "(0, 0.4)"
      ]
     },
     "execution_count": 37,
     "metadata": {},
     "output_type": "execute_result"
    },
    {
     "data": {
      "image/png": "[encoded data removed]",
      "text/plain": [
       "<Figure size 432x288 with 1 Axes>"
      ]
     },
     "metadata": {
      "needs_background": "light"
     },
     "output_type": "display_data"
    }
   ],
   "source": [
    "minmax_diesel = df_ts_features.max_diesel - df_ts_features.min_diesel\n",
    "minmax_e5 = df_ts_features.max_e5 - df_ts_features.min_e5\n",
    "minmax_e10 = df_ts_features.max_e10 - df_ts_features.min_e10 \n",
    "minmax_diesel.plot(kind='hist', bins=200, alpha=0.4)\n",
    "minmax_e5.plot(kind='hist', bins=200, alpha=0.4)\n",
    "minmax_e10.plot(kind='hist', bins=200, alpha=0.4)\n",
    "plt.xlim([0,0.4])"
   ]
  },
  {
   "cell_type": "markdown",
   "metadata": {},
   "source": [
    "# Take aways:\n",
    "\n",
    "- There are outliers in the data set! (min_max -> zero price present)\n",
    "    - Find a way to get rid of them\n",
    "    - There are many stations without any peaks\n",
    "  \n"
   ]
  },
  {
   "cell_type": "code",
   "execution_count": 38,
   "metadata": {},
   "outputs": [
    {
     "data": {
      "text/html": [
       "<div>\n",
       "<style scoped>\n",
       "    .dataframe tbody tr th:only-of-type {\n",
       "        vertical-align: middle;\n",
       "    }\n",
       "\n",
       "    .dataframe tbody tr th {\n",
       "        vertical-align: top;\n",
       "    }\n",
       "\n",
       "    .dataframe thead th {\n",
       "        text-align: right;\n",
       "    }\n",
       "</style>\n",
       "<table border=\"1\" class=\"dataframe\">\n",
       "  <thead>\n",
       "    <tr style=\"text-align: right;\">\n",
       "      <th></th>\n",
       "      <th>changes_diesel</th>\n",
       "      <th>changes_e5</th>\n",
       "      <th>changes_e10</th>\n",
       "      <th>skewness_diesel</th>\n",
       "      <th>skewness_e5</th>\n",
       "      <th>skewness_e10</th>\n",
       "      <th>kurtosis_diesel</th>\n",
       "      <th>kurtosis_e5</th>\n",
       "      <th>kurtosis_e10</th>\n",
       "      <th>var_diesel</th>\n",
       "      <th>...</th>\n",
       "      <th>median_e10</th>\n",
       "      <th>n_peaks_diesel</th>\n",
       "      <th>n_peaks_e5</th>\n",
       "      <th>n_peaks_e10</th>\n",
       "      <th>min_diesel</th>\n",
       "      <th>min_e5</th>\n",
       "      <th>min_e10</th>\n",
       "      <th>max_diesel</th>\n",
       "      <th>max_e5</th>\n",
       "      <th>max_e10</th>\n",
       "    </tr>\n",
       "  </thead>\n",
       "  <tbody>\n",
       "    <tr>\n",
       "      <th>00060280-0004-4444-8888-acdcffffffff</th>\n",
       "      <td>6393.0</td>\n",
       "      <td>0.0</td>\n",
       "      <td>11.0</td>\n",
       "      <td>0.463106</td>\n",
       "      <td>0.0</td>\n",
       "      <td>-3.319638</td>\n",
       "      <td>0.216182</td>\n",
       "      <td>-3.0</td>\n",
       "      <td>9.019995</td>\n",
       "      <td>0.002903</td>\n",
       "      <td>...</td>\n",
       "      <td>0.000</td>\n",
       "      <td>1295.0</td>\n",
       "      <td>0.0</td>\n",
       "      <td>0.0</td>\n",
       "      <td>1.129</td>\n",
       "      <td>0.0</td>\n",
       "      <td>-0.001</td>\n",
       "      <td>1.469</td>\n",
       "      <td>0.0</td>\n",
       "      <td>0.000</td>\n",
       "    </tr>\n",
       "    <tr>\n",
       "      <th>00060595-0001-4444-8888-acdc00000001</th>\n",
       "      <td>844.0</td>\n",
       "      <td>0.0</td>\n",
       "      <td>766.0</td>\n",
       "      <td>1.832912</td>\n",
       "      <td>0.0</td>\n",
       "      <td>0.440446</td>\n",
       "      <td>4.161604</td>\n",
       "      <td>-3.0</td>\n",
       "      <td>-0.549741</td>\n",
       "      <td>0.003530</td>\n",
       "      <td>...</td>\n",
       "      <td>1.389</td>\n",
       "      <td>276.0</td>\n",
       "      <td>0.0</td>\n",
       "      <td>244.0</td>\n",
       "      <td>1.189</td>\n",
       "      <td>0.0</td>\n",
       "      <td>1.269</td>\n",
       "      <td>1.539</td>\n",
       "      <td>0.0</td>\n",
       "      <td>1.589</td>\n",
       "    </tr>\n",
       "    <tr>\n",
       "      <th>00060695-0003-4444-8888-acdc00000003</th>\n",
       "      <td>442.0</td>\n",
       "      <td>0.0</td>\n",
       "      <td>0.0</td>\n",
       "      <td>1.145180</td>\n",
       "      <td>0.0</td>\n",
       "      <td>0.000000</td>\n",
       "      <td>1.519066</td>\n",
       "      <td>-3.0</td>\n",
       "      <td>-3.000000</td>\n",
       "      <td>0.001789</td>\n",
       "      <td>...</td>\n",
       "      <td>0.000</td>\n",
       "      <td>106.0</td>\n",
       "      <td>0.0</td>\n",
       "      <td>0.0</td>\n",
       "      <td>1.149</td>\n",
       "      <td>0.0</td>\n",
       "      <td>0.000</td>\n",
       "      <td>1.399</td>\n",
       "      <td>0.0</td>\n",
       "      <td>0.000</td>\n",
       "    </tr>\n",
       "    <tr>\n",
       "      <th>00060712-0006-4444-8888-acdcffffffff</th>\n",
       "      <td>6343.0</td>\n",
       "      <td>0.0</td>\n",
       "      <td>0.0</td>\n",
       "      <td>0.636458</td>\n",
       "      <td>0.0</td>\n",
       "      <td>0.000000</td>\n",
       "      <td>0.304225</td>\n",
       "      <td>-3.0</td>\n",
       "      <td>-3.000000</td>\n",
       "      <td>0.002359</td>\n",
       "      <td>...</td>\n",
       "      <td>0.000</td>\n",
       "      <td>1475.0</td>\n",
       "      <td>0.0</td>\n",
       "      <td>0.0</td>\n",
       "      <td>1.159</td>\n",
       "      <td>0.0</td>\n",
       "      <td>0.000</td>\n",
       "      <td>1.449</td>\n",
       "      <td>0.0</td>\n",
       "      <td>0.000</td>\n",
       "    </tr>\n",
       "    <tr>\n",
       "      <th>00060821-4ff8-392e-8ddc-d5f700060821</th>\n",
       "      <td>4709.0</td>\n",
       "      <td>0.0</td>\n",
       "      <td>0.0</td>\n",
       "      <td>0.423010</td>\n",
       "      <td>0.0</td>\n",
       "      <td>0.000000</td>\n",
       "      <td>-0.023681</td>\n",
       "      <td>-3.0</td>\n",
       "      <td>-3.000000</td>\n",
       "      <td>0.002548</td>\n",
       "      <td>...</td>\n",
       "      <td>0.000</td>\n",
       "      <td>1434.0</td>\n",
       "      <td>0.0</td>\n",
       "      <td>0.0</td>\n",
       "      <td>1.128</td>\n",
       "      <td>0.0</td>\n",
       "      <td>0.000</td>\n",
       "      <td>1.409</td>\n",
       "      <td>0.0</td>\n",
       "      <td>0.000</td>\n",
       "    </tr>\n",
       "    <tr>\n",
       "      <th>...</th>\n",
       "      <td>...</td>\n",
       "      <td>...</td>\n",
       "      <td>...</td>\n",
       "      <td>...</td>\n",
       "      <td>...</td>\n",
       "      <td>...</td>\n",
       "      <td>...</td>\n",
       "      <td>...</td>\n",
       "      <td>...</td>\n",
       "      <td>...</td>\n",
       "      <td>...</td>\n",
       "      <td>...</td>\n",
       "      <td>...</td>\n",
       "      <td>...</td>\n",
       "      <td>...</td>\n",
       "      <td>...</td>\n",
       "      <td>...</td>\n",
       "      <td>...</td>\n",
       "      <td>...</td>\n",
       "      <td>...</td>\n",
       "      <td>...</td>\n",
       "    </tr>\n",
       "    <tr>\n",
       "      <th>f288bc90-7815-4a0e-8442-6c77de7c96bc</th>\n",
       "      <td>5646.0</td>\n",
       "      <td>0.0</td>\n",
       "      <td>0.0</td>\n",
       "      <td>0.659417</td>\n",
       "      <td>0.0</td>\n",
       "      <td>0.000000</td>\n",
       "      <td>0.272865</td>\n",
       "      <td>-3.0</td>\n",
       "      <td>-3.000000</td>\n",
       "      <td>0.002744</td>\n",
       "      <td>...</td>\n",
       "      <td>0.000</td>\n",
       "      <td>1439.0</td>\n",
       "      <td>0.0</td>\n",
       "      <td>0.0</td>\n",
       "      <td>1.139</td>\n",
       "      <td>0.0</td>\n",
       "      <td>0.000</td>\n",
       "      <td>1.449</td>\n",
       "      <td>0.0</td>\n",
       "      <td>0.000</td>\n",
       "    </tr>\n",
       "    <tr>\n",
       "      <th>f29119d8-966f-47ac-8f01-2946847fee0e</th>\n",
       "      <td>7279.0</td>\n",
       "      <td>0.0</td>\n",
       "      <td>0.0</td>\n",
       "      <td>0.475318</td>\n",
       "      <td>0.0</td>\n",
       "      <td>0.000000</td>\n",
       "      <td>0.264784</td>\n",
       "      <td>-3.0</td>\n",
       "      <td>-3.000000</td>\n",
       "      <td>0.002169</td>\n",
       "      <td>...</td>\n",
       "      <td>0.000</td>\n",
       "      <td>1510.0</td>\n",
       "      <td>0.0</td>\n",
       "      <td>0.0</td>\n",
       "      <td>1.149</td>\n",
       "      <td>0.0</td>\n",
       "      <td>0.000</td>\n",
       "      <td>1.459</td>\n",
       "      <td>0.0</td>\n",
       "      <td>0.000</td>\n",
       "    </tr>\n",
       "    <tr>\n",
       "      <th>f748b5c7-407d-42bc-88f2-a12a23495804</th>\n",
       "      <td>109.0</td>\n",
       "      <td>0.0</td>\n",
       "      <td>0.0</td>\n",
       "      <td>1.571094</td>\n",
       "      <td>0.0</td>\n",
       "      <td>0.000000</td>\n",
       "      <td>1.307782</td>\n",
       "      <td>-3.0</td>\n",
       "      <td>-3.000000</td>\n",
       "      <td>0.005149</td>\n",
       "      <td>...</td>\n",
       "      <td>0.000</td>\n",
       "      <td>2.0</td>\n",
       "      <td>0.0</td>\n",
       "      <td>0.0</td>\n",
       "      <td>1.209</td>\n",
       "      <td>0.0</td>\n",
       "      <td>0.000</td>\n",
       "      <td>1.499</td>\n",
       "      <td>0.0</td>\n",
       "      <td>0.000</td>\n",
       "    </tr>\n",
       "    <tr>\n",
       "      <th>fe2cb4f1-42a6-4f25-bbec-63f93a440245</th>\n",
       "      <td>3931.0</td>\n",
       "      <td>0.0</td>\n",
       "      <td>0.0</td>\n",
       "      <td>0.662735</td>\n",
       "      <td>0.0</td>\n",
       "      <td>0.000000</td>\n",
       "      <td>0.056159</td>\n",
       "      <td>-3.0</td>\n",
       "      <td>-3.000000</td>\n",
       "      <td>0.002097</td>\n",
       "      <td>...</td>\n",
       "      <td>0.000</td>\n",
       "      <td>1070.0</td>\n",
       "      <td>0.0</td>\n",
       "      <td>0.0</td>\n",
       "      <td>1.159</td>\n",
       "      <td>0.0</td>\n",
       "      <td>0.000</td>\n",
       "      <td>1.394</td>\n",
       "      <td>0.0</td>\n",
       "      <td>0.000</td>\n",
       "    </tr>\n",
       "    <tr>\n",
       "      <th>fe3c5632-72c7-4e67-b03e-1aec3f6bb116</th>\n",
       "      <td>4119.0</td>\n",
       "      <td>0.0</td>\n",
       "      <td>0.0</td>\n",
       "      <td>1.491854</td>\n",
       "      <td>0.0</td>\n",
       "      <td>0.000000</td>\n",
       "      <td>3.303484</td>\n",
       "      <td>-3.0</td>\n",
       "      <td>-3.000000</td>\n",
       "      <td>0.003545</td>\n",
       "      <td>...</td>\n",
       "      <td>0.000</td>\n",
       "      <td>977.0</td>\n",
       "      <td>0.0</td>\n",
       "      <td>0.0</td>\n",
       "      <td>1.179</td>\n",
       "      <td>0.0</td>\n",
       "      <td>0.000</td>\n",
       "      <td>1.559</td>\n",
       "      <td>0.0</td>\n",
       "      <td>0.000</td>\n",
       "    </tr>\n",
       "  </tbody>\n",
       "</table>\n",
       "<p>267 rows × 27 columns</p>\n",
       "</div>"
      ],
      "text/plain": [
       "                                      changes_diesel  changes_e5  changes_e10  \\\n",
       "00060280-0004-4444-8888-acdcffffffff          6393.0         0.0         11.0   \n",
       "00060595-0001-4444-8888-acdc00000001           844.0         0.0        766.0   \n",
       "00060695-0003-4444-8888-acdc00000003           442.0         0.0          0.0   \n",
       "00060712-0006-4444-8888-acdcffffffff          6343.0         0.0          0.0   \n",
       "00060821-4ff8-392e-8ddc-d5f700060821          4709.0         0.0          0.0   \n",
       "...                                              ...         ...          ...   \n",
       "f288bc90-7815-4a0e-8442-6c77de7c96bc          5646.0         0.0          0.0   \n",
       "f29119d8-966f-47ac-8f01-2946847fee0e          7279.0         0.0          0.0   \n",
       "f748b5c7-407d-42bc-88f2-a12a23495804           109.0         0.0          0.0   \n",
       "fe2cb4f1-42a6-4f25-bbec-63f93a440245          3931.0         0.0          0.0   \n",
       "fe3c5632-72c7-4e67-b03e-1aec3f6bb116          4119.0         0.0          0.0   \n",
       "\n",
       "                                      skewness_diesel  skewness_e5  \\\n",
       "00060280-0004-4444-8888-acdcffffffff         0.463106          0.0   \n",
       "00060595-0001-4444-8888-acdc00000001         1.832912          0.0   \n",
       "00060695-0003-4444-8888-acdc00000003         1.145180          0.0   \n",
       "00060712-0006-4444-8888-acdcffffffff         0.636458          0.0   \n",
       "00060821-4ff8-392e-8ddc-d5f700060821         0.423010          0.0   \n",
       "...                                               ...          ...   \n",
       "f288bc90-7815-4a0e-8442-6c77de7c96bc         0.659417          0.0   \n",
       "f29119d8-966f-47ac-8f01-2946847fee0e         0.475318          0.0   \n",
       "f748b5c7-407d-42bc-88f2-a12a23495804         1.571094          0.0   \n",
       "fe2cb4f1-42a6-4f25-bbec-63f93a440245         0.662735          0.0   \n",
       "fe3c5632-72c7-4e67-b03e-1aec3f6bb116         1.491854          0.0   \n",
       "\n",
       "                                      skewness_e10  kurtosis_diesel  \\\n",
       "00060280-0004-4444-8888-acdcffffffff     -3.319638         0.216182   \n",
       "00060595-0001-4444-8888-acdc00000001      0.440446         4.161604   \n",
       "00060695-0003-4444-8888-acdc00000003      0.000000         1.519066   \n",
       "00060712-0006-4444-8888-acdcffffffff      0.000000         0.304225   \n",
       "00060821-4ff8-392e-8ddc-d5f700060821      0.000000        -0.023681   \n",
       "...                                            ...              ...   \n",
       "f288bc90-7815-4a0e-8442-6c77de7c96bc      0.000000         0.272865   \n",
       "f29119d8-966f-47ac-8f01-2946847fee0e      0.000000         0.264784   \n",
       "f748b5c7-407d-42bc-88f2-a12a23495804      0.000000         1.307782   \n",
       "fe2cb4f1-42a6-4f25-bbec-63f93a440245      0.000000         0.056159   \n",
       "fe3c5632-72c7-4e67-b03e-1aec3f6bb116      0.000000         3.303484   \n",
       "\n",
       "                                      kurtosis_e5  kurtosis_e10  var_diesel  \\\n",
       "00060280-0004-4444-8888-acdcffffffff         -3.0      9.019995    0.002903   \n",
       "00060595-0001-4444-8888-acdc00000001         -3.0     -0.549741    0.003530   \n",
       "00060695-0003-4444-8888-acdc00000003         -3.0     -3.000000    0.001789   \n",
       "00060712-0006-4444-8888-acdcffffffff         -3.0     -3.000000    0.002359   \n",
       "00060821-4ff8-392e-8ddc-d5f700060821         -3.0     -3.000000    0.002548   \n",
       "...                                           ...           ...         ...   \n",
       "f288bc90-7815-4a0e-8442-6c77de7c96bc         -3.0     -3.000000    0.002744   \n",
       "f29119d8-966f-47ac-8f01-2946847fee0e         -3.0     -3.000000    0.002169   \n",
       "f748b5c7-407d-42bc-88f2-a12a23495804         -3.0     -3.000000    0.005149   \n",
       "fe2cb4f1-42a6-4f25-bbec-63f93a440245         -3.0     -3.000000    0.002097   \n",
       "fe3c5632-72c7-4e67-b03e-1aec3f6bb116         -3.0     -3.000000    0.003545   \n",
       "\n",
       "                                      ...  median_e10  n_peaks_diesel  \\\n",
       "00060280-0004-4444-8888-acdcffffffff  ...       0.000          1295.0   \n",
       "00060595-0001-4444-8888-acdc00000001  ...       1.389           276.0   \n",
       "00060695-0003-4444-8888-acdc00000003  ...       0.000           106.0   \n",
       "00060712-0006-4444-8888-acdcffffffff  ...       0.000          1475.0   \n",
       "00060821-4ff8-392e-8ddc-d5f700060821  ...       0.000          1434.0   \n",
       "...                                   ...         ...             ...   \n",
       "f288bc90-7815-4a0e-8442-6c77de7c96bc  ...       0.000          1439.0   \n",
       "f29119d8-966f-47ac-8f01-2946847fee0e  ...       0.000          1510.0   \n",
       "f748b5c7-407d-42bc-88f2-a12a23495804  ...       0.000             2.0   \n",
       "fe2cb4f1-42a6-4f25-bbec-63f93a440245  ...       0.000          1070.0   \n",
       "fe3c5632-72c7-4e67-b03e-1aec3f6bb116  ...       0.000           977.0   \n",
       "\n",
       "                                      n_peaks_e5  n_peaks_e10  min_diesel  \\\n",
       "00060280-0004-4444-8888-acdcffffffff         0.0          0.0       1.129   \n",
       "00060595-0001-4444-8888-acdc00000001         0.0        244.0       1.189   \n",
       "00060695-0003-4444-8888-acdc00000003         0.0          0.0       1.149   \n",
       "00060712-0006-4444-8888-acdcffffffff         0.0          0.0       1.159   \n",
       "00060821-4ff8-392e-8ddc-d5f700060821         0.0          0.0       1.128   \n",
       "...                                          ...          ...         ...   \n",
       "f288bc90-7815-4a0e-8442-6c77de7c96bc         0.0          0.0       1.139   \n",
       "f29119d8-966f-47ac-8f01-2946847fee0e         0.0          0.0       1.149   \n",
       "f748b5c7-407d-42bc-88f2-a12a23495804         0.0          0.0       1.209   \n",
       "fe2cb4f1-42a6-4f25-bbec-63f93a440245         0.0          0.0       1.159   \n",
       "fe3c5632-72c7-4e67-b03e-1aec3f6bb116         0.0          0.0       1.179   \n",
       "\n",
       "                                      min_e5  min_e10  max_diesel  max_e5  \\\n",
       "00060280-0004-4444-8888-acdcffffffff     0.0   -0.001       1.469     0.0   \n",
       "00060595-0001-4444-8888-acdc00000001     0.0    1.269       1.539     0.0   \n",
       "00060695-0003-4444-8888-acdc00000003     0.0    0.000       1.399     0.0   \n",
       "00060712-0006-4444-8888-acdcffffffff     0.0    0.000       1.449     0.0   \n",
       "00060821-4ff8-392e-8ddc-d5f700060821     0.0    0.000       1.409     0.0   \n",
       "...                                      ...      ...         ...     ...   \n",
       "f288bc90-7815-4a0e-8442-6c77de7c96bc     0.0    0.000       1.449     0.0   \n",
       "f29119d8-966f-47ac-8f01-2946847fee0e     0.0    0.000       1.459     0.0   \n",
       "f748b5c7-407d-42bc-88f2-a12a23495804     0.0    0.000       1.499     0.0   \n",
       "fe2cb4f1-42a6-4f25-bbec-63f93a440245     0.0    0.000       1.394     0.0   \n",
       "fe3c5632-72c7-4e67-b03e-1aec3f6bb116     0.0    0.000       1.559     0.0   \n",
       "\n",
       "                                      max_e10  \n",
       "00060280-0004-4444-8888-acdcffffffff    0.000  \n",
       "00060595-0001-4444-8888-acdc00000001    1.589  \n",
       "00060695-0003-4444-8888-acdc00000003    0.000  \n",
       "00060712-0006-4444-8888-acdcffffffff    0.000  \n",
       "00060821-4ff8-392e-8ddc-d5f700060821    0.000  \n",
       "...                                       ...  \n",
       "f288bc90-7815-4a0e-8442-6c77de7c96bc    0.000  \n",
       "f29119d8-966f-47ac-8f01-2946847fee0e    0.000  \n",
       "f748b5c7-407d-42bc-88f2-a12a23495804    0.000  \n",
       "fe2cb4f1-42a6-4f25-bbec-63f93a440245    0.000  \n",
       "fe3c5632-72c7-4e67-b03e-1aec3f6bb116    0.000  \n",
       "\n",
       "[267 rows x 27 columns]"
      ]
     },
     "execution_count": 38,
     "metadata": {},
     "output_type": "execute_result"
    }
   ],
   "source": [
    "df_ts_features[df_ts_features.changes_e5 == 0]"
   ]
  },
  {
   "cell_type": "code",
   "execution_count": 33,
   "metadata": {},
   "outputs": [],
   "source": [
    "df_anormal = df[df.station_uuid == '00060280-0004-4444-8888-acdcffffffff']"
   ]
  },
  {
   "cell_type": "code",
   "execution_count": 34,
   "metadata": {},
   "outputs": [
    {
     "data": {
      "text/plain": [
       "<matplotlib.axes._subplots.AxesSubplot at 0x1c1da5c8d0>"
      ]
     },
     "execution_count": 34,
     "metadata": {},
     "output_type": "execute_result"
    },
    {
     "data": {
      "image/png": "[encoded data removed]",
      "text/plain": [
       "<Figure size 432x288 with 1 Axes>"
      ]
     },
     "metadata": {
      "needs_background": "light"
     },
     "output_type": "display_data"
    }
   ],
   "source": [
    "df_anormal.plot(x='date', y='diesel')"
   ]
  },
  {
   "cell_type": "markdown",
   "metadata": {},
   "source": [
    "## Joining df_ts_features and df_station on uuid"
   ]
  },
  {
   "cell_type": "code",
   "execution_count": 39,
   "metadata": {},
   "outputs": [
    {
     "data": {
      "text/html": [
       "<div>\n",
       "<style scoped>\n",
       "    .dataframe tbody tr th:only-of-type {\n",
       "        vertical-align: middle;\n",
       "    }\n",
       "\n",
       "    .dataframe tbody tr th {\n",
       "        vertical-align: top;\n",
       "    }\n",
       "\n",
       "    .dataframe thead th {\n",
       "        text-align: right;\n",
       "    }\n",
       "</style>\n",
       "<table border=\"1\" class=\"dataframe\">\n",
       "  <thead>\n",
       "    <tr style=\"text-align: right;\">\n",
       "      <th></th>\n",
       "      <th>date</th>\n",
       "      <th>station_uuid</th>\n",
       "      <th>diesel</th>\n",
       "      <th>e5</th>\n",
       "      <th>e10</th>\n",
       "      <th>dieselchange</th>\n",
       "      <th>e5change</th>\n",
       "      <th>e10change</th>\n",
       "    </tr>\n",
       "  </thead>\n",
       "  <tbody>\n",
       "    <tr>\n",
       "      <th>0</th>\n",
       "      <td>2018-11-09 00:01:06+01:00</td>\n",
       "      <td>15c58984-d4f7-451f-bd86-86357da547b3</td>\n",
       "      <td>1.529</td>\n",
       "      <td>1.629</td>\n",
       "      <td>1.609</td>\n",
       "      <td>1</td>\n",
       "      <td>1</td>\n",
       "      <td>1</td>\n",
       "    </tr>\n",
       "    <tr>\n",
       "      <th>1</th>\n",
       "      <td>2018-11-09 00:01:06+01:00</td>\n",
       "      <td>1796b9cd-b159-429f-9bea-c209e61c822b</td>\n",
       "      <td>1.529</td>\n",
       "      <td>1.599</td>\n",
       "      <td>1.579</td>\n",
       "      <td>1</td>\n",
       "      <td>1</td>\n",
       "      <td>1</td>\n",
       "    </tr>\n",
       "    <tr>\n",
       "      <th>2</th>\n",
       "      <td>2018-11-09 00:01:06+01:00</td>\n",
       "      <td>7fa4a726-3da5-4aca-afdb-161fbbac23b0</td>\n",
       "      <td>1.519</td>\n",
       "      <td>1.639</td>\n",
       "      <td>1.619</td>\n",
       "      <td>1</td>\n",
       "      <td>1</td>\n",
       "      <td>1</td>\n",
       "    </tr>\n",
       "    <tr>\n",
       "      <th>3</th>\n",
       "      <td>2018-11-09 00:01:06+01:00</td>\n",
       "      <td>e8c7a351-f2a3-4118-831e-8f23f8778edc</td>\n",
       "      <td>1.519</td>\n",
       "      <td>1.629</td>\n",
       "      <td>1.609</td>\n",
       "      <td>1</td>\n",
       "      <td>1</td>\n",
       "      <td>1</td>\n",
       "    </tr>\n",
       "    <tr>\n",
       "      <th>4</th>\n",
       "      <td>2018-11-09 00:01:06+01:00</td>\n",
       "      <td>f690816b-9156-42ac-9fca-c4299bb036f6</td>\n",
       "      <td>1.519</td>\n",
       "      <td>1.619</td>\n",
       "      <td>1.599</td>\n",
       "      <td>1</td>\n",
       "      <td>1</td>\n",
       "      <td>1</td>\n",
       "    </tr>\n",
       "  </tbody>\n",
       "</table>\n",
       "</div>"
      ],
      "text/plain": [
       "                       date                          station_uuid  diesel  \\\n",
       "0 2018-11-09 00:01:06+01:00  15c58984-d4f7-451f-bd86-86357da547b3   1.529   \n",
       "1 2018-11-09 00:01:06+01:00  1796b9cd-b159-429f-9bea-c209e61c822b   1.529   \n",
       "2 2018-11-09 00:01:06+01:00  7fa4a726-3da5-4aca-afdb-161fbbac23b0   1.519   \n",
       "3 2018-11-09 00:01:06+01:00  e8c7a351-f2a3-4118-831e-8f23f8778edc   1.519   \n",
       "4 2018-11-09 00:01:06+01:00  f690816b-9156-42ac-9fca-c4299bb036f6   1.519   \n",
       "\n",
       "      e5    e10  dieselchange  e5change  e10change  \n",
       "0  1.629  1.609             1         1          1  \n",
       "1  1.599  1.579             1         1          1  \n",
       "2  1.639  1.619             1         1          1  \n",
       "3  1.629  1.609             1         1          1  \n",
       "4  1.619  1.599             1         1          1  "
      ]
     },
     "execution_count": 39,
     "metadata": {},
     "output_type": "execute_result"
    }
   ],
   "source": [
    "df.head()"
   ]
  },
  {
   "cell_type": "code",
   "execution_count": 40,
   "metadata": {},
   "outputs": [],
   "source": [
    "df = df_ts_features.join(df_stations.set_index('uuid').loc[:, ['latitude', 'longitude', 'neighbors_3km', 'neighbors_5km']])"
   ]
  },
  {
   "cell_type": "code",
   "execution_count": 41,
   "metadata": {},
   "outputs": [],
   "source": [
    "df.dropna(axis=0, inplace=True)"
   ]
  },
  {
   "cell_type": "markdown",
   "metadata": {},
   "source": [
    "## Save the created data in pickle"
   ]
  },
  {
   "cell_type": "code",
   "execution_count": 42,
   "metadata": {},
   "outputs": [],
   "source": [
    "df.to_pickle('./data/feature_matrix_over_year.pkl')"
   ]
  }
 ],
 "metadata": {
  "kernelspec": {
   "display_name": "Python [conda env:nf] *",
   "language": "python",
   "name": "conda-env-nf-py"
  },
  "language_info": {
   "codemirror_mode": {
    "name": "ipython",
    "version": 3
   },
   "file_extension": ".py",
   "mimetype": "text/x-python",
   "name": "python",
   "nbconvert_exporter": "python",
   "pygments_lexer": "ipython3",
   "version": "3.6.6"
  }
 },
 "nbformat": 4,
 "nbformat_minor": 2
}
