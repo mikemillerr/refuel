{
 "cells": [
  {
   "cell_type": "markdown",
   "metadata": {},
   "source": [
    "# refuel_app "
   ]
  },
  {
   "cell_type": "markdown",
   "metadata": {},
   "source": [
    "## Library import"
   ]
  },
  {
   "cell_type": "code",
   "execution_count": 1,
   "metadata": {},
   "outputs": [],
   "source": [
    "import refuel_tools as rt\n",
    "from os import listdir\n",
    "import pandas as pd\n",
    "import numpy as np\n",
    "from pylab import rcParams\n",
    "import statsmodels.api as sm\n",
    "import matplotlib.pyplot as plt\n",
    "import itertools"
   ]
  },
  {
   "cell_type": "markdown",
   "metadata": {},
   "source": [
    "## Important variables"
   ]
  },
  {
   "cell_type": "code",
   "execution_count": 6,
   "metadata": {},
   "outputs": [],
   "source": [
    "# Timespan for raw data\n",
    "timespan = 72\n",
    "\n",
    "cutoff_day = 31\n",
    "\n",
    "# sample_rate\n",
    "sample_rate = '20min'\n",
    "\n",
    "cutoff_day = 2 \n",
    "days_to_predict = 2\n",
    "first_day_forecast = '2019-12-08'\n",
    "last_day_forecast = '2020-01-05'"
   ]
  },
  {
   "cell_type": "markdown",
   "metadata": {},
   "source": [
    "## Load data from csv file"
   ]
  },
  {
   "cell_type": "markdown",
   "metadata": {},
   "source": [
    "### Loading the price data"
   ]
  },
  {
   "cell_type": "code",
   "execution_count": 3,
   "metadata": {},
   "outputs": [],
   "source": [
    "df = rt.load_data_from_csv(timespan=timespan)"
   ]
  },
  {
   "cell_type": "markdown",
   "metadata": {},
   "source": [
    "### Loading the station data"
   ]
  },
  {
   "cell_type": "code",
   "execution_count": 4,
   "metadata": {},
   "outputs": [],
   "source": [
    "df_stations = pd.read_csv('./tankerkoenig-data/stations/2019/11/2019-11-08-stations.csv')"
   ]
  },
  {
   "cell_type": "markdown",
   "metadata": {},
   "source": [
    "## SARIMA parameters"
   ]
  },
  {
   "cell_type": "code",
   "execution_count": 5,
   "metadata": {},
   "outputs": [],
   "source": [
    "order = (1,0,1)\n",
    "seasonal_order = (1,0,1,72)"
   ]
  },
  {
   "cell_type": "markdown",
   "metadata": {},
   "source": [
    "collect interesting uuids, run forecast on uuids, adjust time in evaluation dataframe"
   ]
  },
  {
   "cell_type": "code",
   "execution_count": 42,
   "metadata": {},
   "outputs": [],
   "source": [
    "driving_profile = pd.read_pickle('./data/driving_profile.pkl')\n",
    "\n",
    "home_lat = 53.599389\n",
    "home_long = 9.424762\n",
    "work_lat = 53.600410\n",
    "work_long = 10.070227\n",
    "sport_lat = 53.461226\n",
    "sport_long = 9.969592\n",
    "shop_lat = 53.457027\n",
    "shop_long = 9.986611\n",
    "ma_lat = 53.554011\n",
    "ma_long = 9.920374\n",
    "positions = [(home_lat, home_long), (work_lat, work_long), (sport_lat, sport_long), (shop_lat, shop_long),(ma_lat, ma_long)]\n",
    "\n",
    "df_uuid = rt.get_uuids_around_positions(df_stations, positions, k=2)"
   ]
  },
  {
   "cell_type": "markdown",
   "metadata": {},
   "source": [
    "## Make data continuous time series"
   ]
  },
  {
   "cell_type": "code",
   "execution_count": 43,
   "metadata": {},
   "outputs": [
    {
     "name": "stderr",
     "output_type": "stream",
     "text": [
      "/Users/gabriel/anaconda3/envs/nf/lib/python3.6/site-packages/pandas/core/frame.py:4117: SettingWithCopyWarning: \n",
      "A value is trying to be set on a copy of a slice from a DataFrame\n",
      "\n",
      "See the caveats in the documentation: http://pandas.pydata.org/pandas-docs/stable/user_guide/indexing.html#returning-a-view-versus-a-copy\n",
      "  errors=errors,\n"
     ]
    }
   ],
   "source": [
    "df_ts = rt.make_timeseries(df, df_uuid, cutoff_days=72, sample_rate='20min')"
   ]
  },
  {
   "cell_type": "markdown",
   "metadata": {},
   "source": [
    "## Make rolling predictions for entire timespan\n"
   ]
  },
  {
   "cell_type": "code",
   "execution_count": 76,
   "metadata": {},
   "outputs": [
    {
     "name": "stdout",
     "output_type": "stream",
     "text": [
      "\n",
      "UUID: 51d4b582-a095-1aa0-e100-80009459e03a\n",
      "\n",
      "Calculating Forecast until: 2019-12-10 00:00:00+00:00\n",
      "last training timestep:     2019-12-09 23:40:00+00:00\n",
      "Making Predictions for uuid: 51d4b582-a095-1aa0-e100-80009459e03a:\n",
      "From: 2019-12-07\n",
      "Until: 2019-12-09\n",
      "Test Data is added...\n",
      "Calculating Forecast until: 2019-12-12 00:00:00+00:00\n",
      "last training timestep:     2019-12-11 23:40:00+00:00\n"
     ]
    },
    {
     "name": "stderr",
     "output_type": "stream",
     "text": [
      "/Users/gabriel/anaconda3/envs/nf/lib/python3.6/site-packages/statsmodels/base/model.py:512: ConvergenceWarning: Maximum Likelihood optimization failed to converge. Check mle_retvals\n",
      "  \"Check mle_retvals\", ConvergenceWarning)\n"
     ]
    },
    {
     "name": "stdout",
     "output_type": "stream",
     "text": [
      "Making Predictions for uuid: 51d4b582-a095-1aa0-e100-80009459e03a:\n",
      "From: 2019-12-09\n",
      "Until: 2019-12-11\n",
      "Test Data is added...\n",
      "Calculating Forecast until: 2019-12-14 00:00:00+00:00\n",
      "last training timestep:     2019-12-13 23:40:00+00:00\n"
     ]
    },
    {
     "name": "stderr",
     "output_type": "stream",
     "text": [
      "/Users/gabriel/anaconda3/envs/nf/lib/python3.6/site-packages/statsmodels/base/model.py:512: ConvergenceWarning: Maximum Likelihood optimization failed to converge. Check mle_retvals\n",
      "  \"Check mle_retvals\", ConvergenceWarning)\n"
     ]
    },
    {
     "name": "stdout",
     "output_type": "stream",
     "text": [
      "Making Predictions for uuid: 51d4b582-a095-1aa0-e100-80009459e03a:\n",
      "From: 2019-12-11\n",
      "Until: 2019-12-13\n",
      "Test Data is added...\n",
      "Calculating Forecast until: 2019-12-16 00:00:00+00:00\n",
      "last training timestep:     2019-12-15 23:40:00+00:00\n"
     ]
    },
    {
     "name": "stderr",
     "output_type": "stream",
     "text": [
      "/Users/gabriel/anaconda3/envs/nf/lib/python3.6/site-packages/statsmodels/base/model.py:512: ConvergenceWarning: Maximum Likelihood optimization failed to converge. Check mle_retvals\n",
      "  \"Check mle_retvals\", ConvergenceWarning)\n"
     ]
    },
    {
     "name": "stdout",
     "output_type": "stream",
     "text": [
      "Making Predictions for uuid: 51d4b582-a095-1aa0-e100-80009459e03a:\n",
      "From: 2019-12-13\n",
      "Until: 2019-12-15\n",
      "Test Data is added...\n",
      "Calculating Forecast until: 2019-12-18 00:00:00+00:00\n",
      "last training timestep:     2019-12-17 23:40:00+00:00\n",
      "Making Predictions for uuid: 51d4b582-a095-1aa0-e100-80009459e03a:\n",
      "From: 2019-12-15\n",
      "Until: 2019-12-17\n",
      "Test Data is added...\n",
      "Calculating Forecast until: 2019-12-20 00:00:00+00:00\n",
      "last training timestep:     2019-12-19 23:40:00+00:00\n",
      "Making Predictions for uuid: 51d4b582-a095-1aa0-e100-80009459e03a:\n",
      "From: 2019-12-17\n",
      "Until: 2019-12-19\n",
      "Test Data is added...\n",
      "Calculating Forecast until: 2019-12-22 00:00:00+00:00\n",
      "last training timestep:     2019-12-21 23:40:00+00:00\n"
     ]
    },
    {
     "name": "stderr",
     "output_type": "stream",
     "text": [
      "/Users/gabriel/anaconda3/envs/nf/lib/python3.6/site-packages/statsmodels/base/model.py:512: ConvergenceWarning: Maximum Likelihood optimization failed to converge. Check mle_retvals\n",
      "  \"Check mle_retvals\", ConvergenceWarning)\n"
     ]
    },
    {
     "name": "stdout",
     "output_type": "stream",
     "text": [
      "Making Predictions for uuid: 51d4b582-a095-1aa0-e100-80009459e03a:\n",
      "From: 2019-12-19\n",
      "Until: 2019-12-21\n",
      "Test Data is added...\n",
      "Calculating Forecast until: 2019-12-24 00:00:00+00:00\n",
      "last training timestep:     2019-12-23 23:40:00+00:00\n",
      "Making Predictions for uuid: 51d4b582-a095-1aa0-e100-80009459e03a:\n",
      "From: 2019-12-21\n",
      "Until: 2019-12-23\n",
      "Test Data is added...\n",
      "Calculating Forecast until: 2019-12-26 00:00:00+00:00\n",
      "last training timestep:     2019-12-25 23:40:00+00:00\n"
     ]
    },
    {
     "name": "stderr",
     "output_type": "stream",
     "text": [
      "/Users/gabriel/anaconda3/envs/nf/lib/python3.6/site-packages/statsmodels/base/model.py:512: ConvergenceWarning: Maximum Likelihood optimization failed to converge. Check mle_retvals\n",
      "  \"Check mle_retvals\", ConvergenceWarning)\n"
     ]
    },
    {
     "name": "stdout",
     "output_type": "stream",
     "text": [
      "Making Predictions for uuid: 51d4b582-a095-1aa0-e100-80009459e03a:\n",
      "From: 2019-12-23\n",
      "Until: 2019-12-25\n",
      "Test Data is added...\n",
      "Calculating Forecast until: 2019-12-28 00:00:00+00:00\n",
      "last training timestep:     2019-12-27 23:40:00+00:00\n"
     ]
    },
    {
     "name": "stderr",
     "output_type": "stream",
     "text": [
      "/Users/gabriel/anaconda3/envs/nf/lib/python3.6/site-packages/statsmodels/base/model.py:512: ConvergenceWarning: Maximum Likelihood optimization failed to converge. Check mle_retvals\n",
      "  \"Check mle_retvals\", ConvergenceWarning)\n"
     ]
    },
    {
     "name": "stdout",
     "output_type": "stream",
     "text": [
      "Making Predictions for uuid: 51d4b582-a095-1aa0-e100-80009459e03a:\n",
      "From: 2019-12-25\n",
      "Until: 2019-12-27\n",
      "Test Data is added...\n",
      "Calculating Forecast until: 2019-12-30 00:00:00+00:00\n",
      "last training timestep:     2019-12-29 23:40:00+00:00\n",
      "Making Predictions for uuid: 51d4b582-a095-1aa0-e100-80009459e03a:\n",
      "From: 2019-12-27\n",
      "Until: 2019-12-29\n",
      "Test Data is added...\n",
      "Calculating Forecast until: 2020-01-01 00:00:00+00:00\n",
      "last training timestep:     2019-12-31 23:40:00+00:00\n"
     ]
    },
    {
     "name": "stderr",
     "output_type": "stream",
     "text": [
      "/Users/gabriel/anaconda3/envs/nf/lib/python3.6/site-packages/statsmodels/base/model.py:512: ConvergenceWarning: Maximum Likelihood optimization failed to converge. Check mle_retvals\n",
      "  \"Check mle_retvals\", ConvergenceWarning)\n"
     ]
    },
    {
     "name": "stdout",
     "output_type": "stream",
     "text": [
      "Making Predictions for uuid: 51d4b582-a095-1aa0-e100-80009459e03a:\n",
      "From: 2019-12-29\n",
      "Until: 2019-12-31\n",
      "Test Data is added...\n",
      "Calculating Forecast until: 2020-01-03 00:00:00+00:00\n",
      "last training timestep:     2020-01-02 23:40:00+00:00\n",
      "Making Predictions for uuid: 51d4b582-a095-1aa0-e100-80009459e03a:\n",
      "From: 2019-12-31\n",
      "Until: 2020-01-02\n",
      "Test Data is added...\n",
      "Calculating Forecast until: 2020-01-05 00:00:00+00:00\n",
      "last training timestep:     2020-01-04 23:40:00+00:00\n",
      "Making Predictions for uuid: 51d4b582-a095-1aa0-e100-80009459e03a:\n",
      "From: 2020-01-02\n",
      "Until: 2020-01-04\n",
      "Test Data is added...\n",
      "\n",
      "UUID: aca55209-cf7f-429b-b9f2-5e319dc60eb3\n",
      "\n",
      "Calculating Forecast until: 2019-12-10 00:00:00+00:00\n",
      "last training timestep:     2019-12-09 23:40:00+00:00\n",
      "Making Predictions for uuid: aca55209-cf7f-429b-b9f2-5e319dc60eb3:\n",
      "From: 2019-12-07\n",
      "Until: 2019-12-09\n",
      "Test Data is added...\n",
      "Calculating Forecast until: 2019-12-12 00:00:00+00:00\n",
      "last training timestep:     2019-12-11 23:40:00+00:00\n",
      "Making Predictions for uuid: aca55209-cf7f-429b-b9f2-5e319dc60eb3:\n",
      "From: 2019-12-09\n",
      "Until: 2019-12-11\n",
      "Test Data is added...\n",
      "Calculating Forecast until: 2019-12-14 00:00:00+00:00\n",
      "last training timestep:     2019-12-13 23:40:00+00:00\n",
      "Making Predictions for uuid: aca55209-cf7f-429b-b9f2-5e319dc60eb3:\n",
      "From: 2019-12-11\n",
      "Until: 2019-12-13\n",
      "Test Data is added...\n",
      "Calculating Forecast until: 2019-12-16 00:00:00+00:00\n",
      "last training timestep:     2019-12-15 23:40:00+00:00\n",
      "Making Predictions for uuid: aca55209-cf7f-429b-b9f2-5e319dc60eb3:\n",
      "From: 2019-12-13\n",
      "Until: 2019-12-15\n",
      "Test Data is added...\n",
      "Calculating Forecast until: 2019-12-18 00:00:00+00:00\n",
      "last training timestep:     2019-12-17 23:40:00+00:00\n",
      "Making Predictions for uuid: aca55209-cf7f-429b-b9f2-5e319dc60eb3:\n",
      "From: 2019-12-15\n",
      "Until: 2019-12-17\n",
      "Test Data is added...\n",
      "Calculating Forecast until: 2019-12-20 00:00:00+00:00\n",
      "last training timestep:     2019-12-19 23:40:00+00:00\n",
      "Making Predictions for uuid: aca55209-cf7f-429b-b9f2-5e319dc60eb3:\n",
      "From: 2019-12-17\n",
      "Until: 2019-12-19\n",
      "Test Data is added...\n",
      "Calculating Forecast until: 2019-12-22 00:00:00+00:00\n",
      "last training timestep:     2019-12-21 23:40:00+00:00\n",
      "Making Predictions for uuid: aca55209-cf7f-429b-b9f2-5e319dc60eb3:\n",
      "From: 2019-12-19\n",
      "Until: 2019-12-21\n",
      "Test Data is added...\n",
      "Calculating Forecast until: 2019-12-24 00:00:00+00:00\n",
      "last training timestep:     2019-12-23 23:40:00+00:00\n",
      "Making Predictions for uuid: aca55209-cf7f-429b-b9f2-5e319dc60eb3:\n",
      "From: 2019-12-21\n",
      "Until: 2019-12-23\n",
      "Test Data is added...\n",
      "Calculating Forecast until: 2019-12-26 00:00:00+00:00\n",
      "last training timestep:     2019-12-25 23:40:00+00:00\n",
      "Making Predictions for uuid: aca55209-cf7f-429b-b9f2-5e319dc60eb3:\n",
      "From: 2019-12-23\n",
      "Until: 2019-12-25\n",
      "Test Data is added...\n",
      "Calculating Forecast until: 2019-12-28 00:00:00+00:00\n",
      "last training timestep:     2019-12-27 23:40:00+00:00\n",
      "Making Predictions for uuid: aca55209-cf7f-429b-b9f2-5e319dc60eb3:\n",
      "From: 2019-12-25\n",
      "Until: 2019-12-27\n",
      "Test Data is added...\n",
      "Calculating Forecast until: 2019-12-30 00:00:00+00:00\n",
      "last training timestep:     2019-12-29 23:40:00+00:00\n",
      "Making Predictions for uuid: aca55209-cf7f-429b-b9f2-5e319dc60eb3:\n",
      "From: 2019-12-27\n",
      "Until: 2019-12-29\n",
      "Test Data is added...\n",
      "Calculating Forecast until: 2020-01-01 00:00:00+00:00\n",
      "last training timestep:     2019-12-31 23:40:00+00:00\n",
      "Making Predictions for uuid: aca55209-cf7f-429b-b9f2-5e319dc60eb3:\n",
      "From: 2019-12-29\n",
      "Until: 2019-12-31\n",
      "Test Data is added...\n",
      "Calculating Forecast until: 2020-01-03 00:00:00+00:00\n",
      "last training timestep:     2020-01-02 23:40:00+00:00\n",
      "Making Predictions for uuid: aca55209-cf7f-429b-b9f2-5e319dc60eb3:\n",
      "From: 2019-12-31\n",
      "Until: 2020-01-02\n",
      "Test Data is added...\n",
      "Calculating Forecast until: 2020-01-05 00:00:00+00:00\n",
      "last training timestep:     2020-01-04 23:40:00+00:00\n",
      "Making Predictions for uuid: aca55209-cf7f-429b-b9f2-5e319dc60eb3:\n",
      "From: 2020-01-02\n",
      "Until: 2020-01-04\n",
      "Test Data is added...\n",
      "\n",
      "UUID: 30a50253-2339-469d-a77c-86713d9f5f7f\n",
      "\n",
      "Calculating Forecast until: 2019-12-10 00:00:00+00:00\n",
      "last training timestep:     2019-12-09 23:40:00+00:00\n"
     ]
    },
    {
     "name": "stderr",
     "output_type": "stream",
     "text": [
      "/Users/gabriel/anaconda3/envs/nf/lib/python3.6/site-packages/statsmodels/base/model.py:512: ConvergenceWarning: Maximum Likelihood optimization failed to converge. Check mle_retvals\n",
      "  \"Check mle_retvals\", ConvergenceWarning)\n"
     ]
    },
    {
     "name": "stdout",
     "output_type": "stream",
     "text": [
      "Making Predictions for uuid: 30a50253-2339-469d-a77c-86713d9f5f7f:\n",
      "From: 2019-12-07\n",
      "Until: 2019-12-09\n",
      "Test Data is added...\n",
      "Calculating Forecast until: 2019-12-12 00:00:00+00:00\n",
      "last training timestep:     2019-12-11 23:40:00+00:00\n",
      "Making Predictions for uuid: 30a50253-2339-469d-a77c-86713d9f5f7f:\n",
      "From: 2019-12-09\n",
      "Until: 2019-12-11\n",
      "Test Data is added...\n",
      "Calculating Forecast until: 2019-12-14 00:00:00+00:00\n",
      "last training timestep:     2019-12-13 23:40:00+00:00\n",
      "Making Predictions for uuid: 30a50253-2339-469d-a77c-86713d9f5f7f:\n",
      "From: 2019-12-11\n",
      "Until: 2019-12-13\n",
      "Test Data is added...\n",
      "Calculating Forecast until: 2019-12-16 00:00:00+00:00\n",
      "last training timestep:     2019-12-15 23:40:00+00:00\n",
      "Making Predictions for uuid: 30a50253-2339-469d-a77c-86713d9f5f7f:\n",
      "From: 2019-12-13\n",
      "Until: 2019-12-15\n",
      "Test Data is added...\n",
      "Calculating Forecast until: 2019-12-18 00:00:00+00:00\n",
      "last training timestep:     2019-12-17 23:40:00+00:00\n",
      "Making Predictions for uuid: 30a50253-2339-469d-a77c-86713d9f5f7f:\n",
      "From: 2019-12-15\n",
      "Until: 2019-12-17\n",
      "Test Data is added...\n",
      "Calculating Forecast until: 2019-12-20 00:00:00+00:00\n",
      "last training timestep:     2019-12-19 23:40:00+00:00\n",
      "Making Predictions for uuid: 30a50253-2339-469d-a77c-86713d9f5f7f:\n",
      "From: 2019-12-17\n",
      "Until: 2019-12-19\n",
      "Test Data is added...\n",
      "Calculating Forecast until: 2019-12-22 00:00:00+00:00\n",
      "last training timestep:     2019-12-21 23:40:00+00:00\n",
      "Making Predictions for uuid: 30a50253-2339-469d-a77c-86713d9f5f7f:\n",
      "From: 2019-12-19\n",
      "Until: 2019-12-21\n",
      "Test Data is added...\n",
      "Calculating Forecast until: 2019-12-24 00:00:00+00:00\n",
      "last training timestep:     2019-12-23 23:40:00+00:00\n",
      "Making Predictions for uuid: 30a50253-2339-469d-a77c-86713d9f5f7f:\n",
      "From: 2019-12-21\n",
      "Until: 2019-12-23\n",
      "Test Data is added...\n",
      "Calculating Forecast until: 2019-12-26 00:00:00+00:00\n",
      "last training timestep:     2019-12-25 23:40:00+00:00\n",
      "Making Predictions for uuid: 30a50253-2339-469d-a77c-86713d9f5f7f:\n",
      "From: 2019-12-23\n",
      "Until: 2019-12-25\n",
      "Test Data is added...\n",
      "Calculating Forecast until: 2019-12-28 00:00:00+00:00\n",
      "last training timestep:     2019-12-27 23:40:00+00:00\n",
      "Making Predictions for uuid: 30a50253-2339-469d-a77c-86713d9f5f7f:\n",
      "From: 2019-12-25\n",
      "Until: 2019-12-27\n",
      "Test Data is added...\n",
      "Calculating Forecast until: 2019-12-30 00:00:00+00:00\n",
      "last training timestep:     2019-12-29 23:40:00+00:00\n",
      "Making Predictions for uuid: 30a50253-2339-469d-a77c-86713d9f5f7f:\n",
      "From: 2019-12-27\n",
      "Until: 2019-12-29\n",
      "Test Data is added...\n",
      "Calculating Forecast until: 2020-01-01 00:00:00+00:00\n",
      "last training timestep:     2019-12-31 23:40:00+00:00\n",
      "Making Predictions for uuid: 30a50253-2339-469d-a77c-86713d9f5f7f:\n",
      "From: 2019-12-29\n",
      "Until: 2019-12-31\n",
      "Test Data is added...\n",
      "Calculating Forecast until: 2020-01-03 00:00:00+00:00\n",
      "last training timestep:     2020-01-02 23:40:00+00:00\n",
      "Making Predictions for uuid: 30a50253-2339-469d-a77c-86713d9f5f7f:\n",
      "From: 2019-12-31\n",
      "Until: 2020-01-02\n",
      "Test Data is added...\n",
      "Calculating Forecast until: 2020-01-05 00:00:00+00:00\n",
      "last training timestep:     2020-01-04 23:40:00+00:00\n",
      "Making Predictions for uuid: 30a50253-2339-469d-a77c-86713d9f5f7f:\n",
      "From: 2020-01-02\n",
      "Until: 2020-01-04\n",
      "Test Data is added...\n",
      "\n",
      "UUID: 9b75b95b-a0c2-4921-ae09-f5da4969a486\n",
      "\n",
      "Calculating Forecast until: 2019-12-10 00:00:00+00:00\n",
      "last training timestep:     2019-12-09 23:40:00+00:00\n",
      "Time series slice was empty!\n",
      "Calculating Forecast until: 2019-12-12 00:00:00+00:00\n",
      "last training timestep:     2019-12-11 23:40:00+00:00\n",
      "Time series slice was empty!\n",
      "Calculating Forecast until: 2019-12-14 00:00:00+00:00\n",
      "last training timestep:     2019-12-13 23:40:00+00:00\n",
      "Time series slice was empty!\n",
      "Calculating Forecast until: 2019-12-16 00:00:00+00:00\n",
      "last training timestep:     2019-12-15 23:40:00+00:00\n",
      "Time series slice was empty!\n",
      "Calculating Forecast until: 2019-12-18 00:00:00+00:00\n",
      "last training timestep:     2019-12-17 23:40:00+00:00\n",
      "Time series slice was empty!\n",
      "Calculating Forecast until: 2019-12-20 00:00:00+00:00\n",
      "last training timestep:     2019-12-19 23:40:00+00:00\n",
      "Time series slice was empty!\n",
      "Calculating Forecast until: 2019-12-22 00:00:00+00:00\n",
      "last training timestep:     2019-12-21 23:40:00+00:00\n",
      "Time series slice was empty!\n",
      "Calculating Forecast until: 2019-12-24 00:00:00+00:00\n",
      "last training timestep:     2019-12-23 23:40:00+00:00\n",
      "Time series slice was empty!\n",
      "Calculating Forecast until: 2019-12-26 00:00:00+00:00\n",
      "last training timestep:     2019-12-25 23:40:00+00:00\n",
      "Time series slice was empty!\n",
      "Calculating Forecast until: 2019-12-28 00:00:00+00:00\n",
      "last training timestep:     2019-12-27 23:40:00+00:00\n",
      "Time series slice was empty!\n",
      "Calculating Forecast until: 2019-12-30 00:00:00+00:00\n",
      "last training timestep:     2019-12-29 23:40:00+00:00\n",
      "Time series slice was empty!\n",
      "Calculating Forecast until: 2020-01-01 00:00:00+00:00\n",
      "last training timestep:     2019-12-31 23:40:00+00:00\n",
      "Time series slice was empty!\n",
      "Calculating Forecast until: 2020-01-03 00:00:00+00:00\n",
      "last training timestep:     2020-01-02 23:40:00+00:00\n",
      "Time series slice was empty!\n",
      "Calculating Forecast until: 2020-01-05 00:00:00+00:00\n",
      "last training timestep:     2020-01-04 23:40:00+00:00\n",
      "Time series slice was empty!\n",
      "\n",
      "UUID: 51d4b496-a095-1aa0-e100-80009459e03a\n",
      "\n",
      "Calculating Forecast until: 2019-12-10 00:00:00+00:00\n",
      "last training timestep:     2019-12-09 23:40:00+00:00\n",
      "Making Predictions for uuid: 51d4b496-a095-1aa0-e100-80009459e03a:\n",
      "From: 2019-12-07\n",
      "Until: 2019-12-09\n",
      "Test Data is added...\n",
      "Calculating Forecast until: 2019-12-12 00:00:00+00:00\n",
      "last training timestep:     2019-12-11 23:40:00+00:00\n"
     ]
    },
    {
     "name": "stderr",
     "output_type": "stream",
     "text": [
      "/Users/gabriel/anaconda3/envs/nf/lib/python3.6/site-packages/statsmodels/base/model.py:512: ConvergenceWarning: Maximum Likelihood optimization failed to converge. Check mle_retvals\n",
      "  \"Check mle_retvals\", ConvergenceWarning)\n"
     ]
    },
    {
     "name": "stdout",
     "output_type": "stream",
     "text": [
      "Making Predictions for uuid: 51d4b496-a095-1aa0-e100-80009459e03a:\n",
      "From: 2019-12-09\n",
      "Until: 2019-12-11\n",
      "Test Data is added...\n",
      "Calculating Forecast until: 2019-12-14 00:00:00+00:00\n",
      "last training timestep:     2019-12-13 23:40:00+00:00\n"
     ]
    },
    {
     "name": "stderr",
     "output_type": "stream",
     "text": [
      "/Users/gabriel/anaconda3/envs/nf/lib/python3.6/site-packages/statsmodels/base/model.py:512: ConvergenceWarning: Maximum Likelihood optimization failed to converge. Check mle_retvals\n",
      "  \"Check mle_retvals\", ConvergenceWarning)\n"
     ]
    },
    {
     "name": "stdout",
     "output_type": "stream",
     "text": [
      "Making Predictions for uuid: 51d4b496-a095-1aa0-e100-80009459e03a:\n",
      "From: 2019-12-11\n",
      "Until: 2019-12-13\n",
      "Test Data is added...\n",
      "Calculating Forecast until: 2019-12-16 00:00:00+00:00\n",
      "last training timestep:     2019-12-15 23:40:00+00:00\n"
     ]
    },
    {
     "name": "stderr",
     "output_type": "stream",
     "text": [
      "/Users/gabriel/anaconda3/envs/nf/lib/python3.6/site-packages/statsmodels/base/model.py:512: ConvergenceWarning: Maximum Likelihood optimization failed to converge. Check mle_retvals\n",
      "  \"Check mle_retvals\", ConvergenceWarning)\n"
     ]
    },
    {
     "name": "stdout",
     "output_type": "stream",
     "text": [
      "Making Predictions for uuid: 51d4b496-a095-1aa0-e100-80009459e03a:\n",
      "From: 2019-12-13\n",
      "Until: 2019-12-15\n",
      "Test Data is added...\n",
      "Calculating Forecast until: 2019-12-18 00:00:00+00:00\n",
      "last training timestep:     2019-12-17 23:40:00+00:00\n"
     ]
    },
    {
     "name": "stderr",
     "output_type": "stream",
     "text": [
      "/Users/gabriel/anaconda3/envs/nf/lib/python3.6/site-packages/statsmodels/base/model.py:512: ConvergenceWarning: Maximum Likelihood optimization failed to converge. Check mle_retvals\n",
      "  \"Check mle_retvals\", ConvergenceWarning)\n"
     ]
    },
    {
     "name": "stdout",
     "output_type": "stream",
     "text": [
      "Making Predictions for uuid: 51d4b496-a095-1aa0-e100-80009459e03a:\n",
      "From: 2019-12-15\n",
      "Until: 2019-12-17\n",
      "Test Data is added...\n",
      "Calculating Forecast until: 2019-12-20 00:00:00+00:00\n",
      "last training timestep:     2019-12-19 23:40:00+00:00\n",
      "Making Predictions for uuid: 51d4b496-a095-1aa0-e100-80009459e03a:\n",
      "From: 2019-12-17\n",
      "Until: 2019-12-19\n",
      "Test Data is added...\n",
      "Calculating Forecast until: 2019-12-22 00:00:00+00:00\n",
      "last training timestep:     2019-12-21 23:40:00+00:00\n"
     ]
    },
    {
     "name": "stderr",
     "output_type": "stream",
     "text": [
      "/Users/gabriel/anaconda3/envs/nf/lib/python3.6/site-packages/statsmodels/base/model.py:512: ConvergenceWarning: Maximum Likelihood optimization failed to converge. Check mle_retvals\n",
      "  \"Check mle_retvals\", ConvergenceWarning)\n"
     ]
    },
    {
     "name": "stdout",
     "output_type": "stream",
     "text": [
      "Making Predictions for uuid: 51d4b496-a095-1aa0-e100-80009459e03a:\n",
      "From: 2019-12-19\n",
      "Until: 2019-12-21\n",
      "Test Data is added...\n",
      "Calculating Forecast until: 2019-12-24 00:00:00+00:00\n",
      "last training timestep:     2019-12-23 23:40:00+00:00\n"
     ]
    },
    {
     "name": "stderr",
     "output_type": "stream",
     "text": [
      "/Users/gabriel/anaconda3/envs/nf/lib/python3.6/site-packages/statsmodels/base/model.py:512: ConvergenceWarning: Maximum Likelihood optimization failed to converge. Check mle_retvals\n",
      "  \"Check mle_retvals\", ConvergenceWarning)\n"
     ]
    },
    {
     "name": "stdout",
     "output_type": "stream",
     "text": [
      "Making Predictions for uuid: 51d4b496-a095-1aa0-e100-80009459e03a:\n",
      "From: 2019-12-21\n",
      "Until: 2019-12-23\n",
      "Test Data is added...\n",
      "Calculating Forecast until: 2019-12-26 00:00:00+00:00\n",
      "last training timestep:     2019-12-25 23:40:00+00:00\n"
     ]
    },
    {
     "name": "stderr",
     "output_type": "stream",
     "text": [
      "/Users/gabriel/anaconda3/envs/nf/lib/python3.6/site-packages/statsmodels/base/model.py:512: ConvergenceWarning: Maximum Likelihood optimization failed to converge. Check mle_retvals\n",
      "  \"Check mle_retvals\", ConvergenceWarning)\n"
     ]
    },
    {
     "name": "stdout",
     "output_type": "stream",
     "text": [
      "Making Predictions for uuid: 51d4b496-a095-1aa0-e100-80009459e03a:\n",
      "From: 2019-12-23\n",
      "Until: 2019-12-25\n",
      "Test Data is added...\n",
      "Calculating Forecast until: 2019-12-28 00:00:00+00:00\n",
      "last training timestep:     2019-12-27 23:40:00+00:00\n"
     ]
    },
    {
     "name": "stderr",
     "output_type": "stream",
     "text": [
      "/Users/gabriel/anaconda3/envs/nf/lib/python3.6/site-packages/statsmodels/base/model.py:512: ConvergenceWarning: Maximum Likelihood optimization failed to converge. Check mle_retvals\n",
      "  \"Check mle_retvals\", ConvergenceWarning)\n"
     ]
    },
    {
     "name": "stdout",
     "output_type": "stream",
     "text": [
      "Making Predictions for uuid: 51d4b496-a095-1aa0-e100-80009459e03a:\n",
      "From: 2019-12-25\n",
      "Until: 2019-12-27\n",
      "Test Data is added...\n",
      "Calculating Forecast until: 2019-12-30 00:00:00+00:00\n",
      "last training timestep:     2019-12-29 23:40:00+00:00\n"
     ]
    },
    {
     "name": "stderr",
     "output_type": "stream",
     "text": [
      "/Users/gabriel/anaconda3/envs/nf/lib/python3.6/site-packages/statsmodels/base/model.py:512: ConvergenceWarning: Maximum Likelihood optimization failed to converge. Check mle_retvals\n",
      "  \"Check mle_retvals\", ConvergenceWarning)\n"
     ]
    },
    {
     "name": "stdout",
     "output_type": "stream",
     "text": [
      "Making Predictions for uuid: 51d4b496-a095-1aa0-e100-80009459e03a:\n",
      "From: 2019-12-27\n",
      "Until: 2019-12-29\n",
      "Test Data is added...\n",
      "Calculating Forecast until: 2020-01-01 00:00:00+00:00\n",
      "last training timestep:     2019-12-31 23:40:00+00:00\n"
     ]
    },
    {
     "name": "stderr",
     "output_type": "stream",
     "text": [
      "/Users/gabriel/anaconda3/envs/nf/lib/python3.6/site-packages/statsmodels/base/model.py:512: ConvergenceWarning: Maximum Likelihood optimization failed to converge. Check mle_retvals\n",
      "  \"Check mle_retvals\", ConvergenceWarning)\n"
     ]
    },
    {
     "name": "stdout",
     "output_type": "stream",
     "text": [
      "Making Predictions for uuid: 51d4b496-a095-1aa0-e100-80009459e03a:\n",
      "From: 2019-12-29\n",
      "Until: 2019-12-31\n",
      "Test Data is added...\n",
      "Calculating Forecast until: 2020-01-03 00:00:00+00:00\n",
      "last training timestep:     2020-01-02 23:40:00+00:00\n"
     ]
    },
    {
     "name": "stderr",
     "output_type": "stream",
     "text": [
      "/Users/gabriel/anaconda3/envs/nf/lib/python3.6/site-packages/statsmodels/base/model.py:512: ConvergenceWarning: Maximum Likelihood optimization failed to converge. Check mle_retvals\n",
      "  \"Check mle_retvals\", ConvergenceWarning)\n"
     ]
    },
    {
     "name": "stdout",
     "output_type": "stream",
     "text": [
      "Making Predictions for uuid: 51d4b496-a095-1aa0-e100-80009459e03a:\n",
      "From: 2019-12-31\n",
      "Until: 2020-01-02\n",
      "Test Data is added...\n",
      "Calculating Forecast until: 2020-01-05 00:00:00+00:00\n",
      "last training timestep:     2020-01-04 23:40:00+00:00\n"
     ]
    },
    {
     "name": "stderr",
     "output_type": "stream",
     "text": [
      "/Users/gabriel/anaconda3/envs/nf/lib/python3.6/site-packages/statsmodels/base/model.py:512: ConvergenceWarning: Maximum Likelihood optimization failed to converge. Check mle_retvals\n",
      "  \"Check mle_retvals\", ConvergenceWarning)\n"
     ]
    },
    {
     "name": "stdout",
     "output_type": "stream",
     "text": [
      "Making Predictions for uuid: 51d4b496-a095-1aa0-e100-80009459e03a:\n",
      "From: 2020-01-02\n",
      "Until: 2020-01-04\n",
      "Test Data is added...\n",
      "\n",
      "UUID: be4995cf-ad24-4777-9d73-3cbffe2fa715\n",
      "\n",
      "Calculating Forecast until: 2019-12-10 00:00:00+00:00\n",
      "last training timestep:     2019-12-09 23:40:00+00:00\n",
      "Making Predictions for uuid: be4995cf-ad24-4777-9d73-3cbffe2fa715:\n",
      "From: 2019-12-07\n",
      "Until: 2019-12-09\n",
      "Test Data is added...\n",
      "Calculating Forecast until: 2019-12-12 00:00:00+00:00\n",
      "last training timestep:     2019-12-11 23:40:00+00:00\n"
     ]
    },
    {
     "name": "stderr",
     "output_type": "stream",
     "text": [
      "/Users/gabriel/anaconda3/envs/nf/lib/python3.6/site-packages/statsmodels/base/model.py:512: ConvergenceWarning: Maximum Likelihood optimization failed to converge. Check mle_retvals\n",
      "  \"Check mle_retvals\", ConvergenceWarning)\n"
     ]
    },
    {
     "name": "stdout",
     "output_type": "stream",
     "text": [
      "Making Predictions for uuid: be4995cf-ad24-4777-9d73-3cbffe2fa715:\n",
      "From: 2019-12-09\n",
      "Until: 2019-12-11\n",
      "Test Data is added...\n",
      "Calculating Forecast until: 2019-12-14 00:00:00+00:00\n",
      "last training timestep:     2019-12-13 23:40:00+00:00\n",
      "Making Predictions for uuid: be4995cf-ad24-4777-9d73-3cbffe2fa715:\n",
      "From: 2019-12-11\n",
      "Until: 2019-12-13\n",
      "Test Data is added...\n",
      "Calculating Forecast until: 2019-12-16 00:00:00+00:00\n",
      "last training timestep:     2019-12-15 23:40:00+00:00\n",
      "Making Predictions for uuid: be4995cf-ad24-4777-9d73-3cbffe2fa715:\n",
      "From: 2019-12-13\n",
      "Until: 2019-12-15\n",
      "Test Data is added...\n",
      "Calculating Forecast until: 2019-12-18 00:00:00+00:00\n",
      "last training timestep:     2019-12-17 23:40:00+00:00\n",
      "Making Predictions for uuid: be4995cf-ad24-4777-9d73-3cbffe2fa715:\n",
      "From: 2019-12-15\n",
      "Until: 2019-12-17\n",
      "Test Data is added...\n",
      "Calculating Forecast until: 2019-12-20 00:00:00+00:00\n",
      "last training timestep:     2019-12-19 23:40:00+00:00\n",
      "Making Predictions for uuid: be4995cf-ad24-4777-9d73-3cbffe2fa715:\n",
      "From: 2019-12-17\n",
      "Until: 2019-12-19\n",
      "Test Data is added...\n",
      "Calculating Forecast until: 2019-12-22 00:00:00+00:00\n",
      "last training timestep:     2019-12-21 23:40:00+00:00\n",
      "Making Predictions for uuid: be4995cf-ad24-4777-9d73-3cbffe2fa715:\n",
      "From: 2019-12-19\n",
      "Until: 2019-12-21\n",
      "Test Data is added...\n",
      "Calculating Forecast until: 2019-12-24 00:00:00+00:00\n",
      "last training timestep:     2019-12-23 23:40:00+00:00\n"
     ]
    },
    {
     "name": "stderr",
     "output_type": "stream",
     "text": [
      "/Users/gabriel/anaconda3/envs/nf/lib/python3.6/site-packages/statsmodels/base/model.py:512: ConvergenceWarning: Maximum Likelihood optimization failed to converge. Check mle_retvals\n",
      "  \"Check mle_retvals\", ConvergenceWarning)\n"
     ]
    },
    {
     "name": "stdout",
     "output_type": "stream",
     "text": [
      "Making Predictions for uuid: be4995cf-ad24-4777-9d73-3cbffe2fa715:\n",
      "From: 2019-12-21\n",
      "Until: 2019-12-23\n",
      "Test Data is added...\n",
      "Calculating Forecast until: 2019-12-26 00:00:00+00:00\n",
      "last training timestep:     2019-12-25 23:40:00+00:00\n"
     ]
    },
    {
     "name": "stderr",
     "output_type": "stream",
     "text": [
      "/Users/gabriel/anaconda3/envs/nf/lib/python3.6/site-packages/statsmodels/base/model.py:512: ConvergenceWarning: Maximum Likelihood optimization failed to converge. Check mle_retvals\n",
      "  \"Check mle_retvals\", ConvergenceWarning)\n"
     ]
    },
    {
     "name": "stdout",
     "output_type": "stream",
     "text": [
      "Making Predictions for uuid: be4995cf-ad24-4777-9d73-3cbffe2fa715:\n",
      "From: 2019-12-23\n",
      "Until: 2019-12-25\n",
      "Test Data is added...\n",
      "Calculating Forecast until: 2019-12-28 00:00:00+00:00\n",
      "last training timestep:     2019-12-27 23:40:00+00:00\n",
      "Making Predictions for uuid: be4995cf-ad24-4777-9d73-3cbffe2fa715:\n",
      "From: 2019-12-25\n",
      "Until: 2019-12-27\n",
      "Test Data is added...\n",
      "Calculating Forecast until: 2019-12-30 00:00:00+00:00\n",
      "last training timestep:     2019-12-29 23:40:00+00:00\n",
      "Making Predictions for uuid: be4995cf-ad24-4777-9d73-3cbffe2fa715:\n",
      "From: 2019-12-27\n",
      "Until: 2019-12-29\n",
      "Test Data is added...\n",
      "Calculating Forecast until: 2020-01-01 00:00:00+00:00\n",
      "last training timestep:     2019-12-31 23:40:00+00:00\n"
     ]
    },
    {
     "name": "stderr",
     "output_type": "stream",
     "text": [
      "/Users/gabriel/anaconda3/envs/nf/lib/python3.6/site-packages/statsmodels/base/model.py:512: ConvergenceWarning: Maximum Likelihood optimization failed to converge. Check mle_retvals\n",
      "  \"Check mle_retvals\", ConvergenceWarning)\n"
     ]
    },
    {
     "name": "stdout",
     "output_type": "stream",
     "text": [
      "Making Predictions for uuid: be4995cf-ad24-4777-9d73-3cbffe2fa715:\n",
      "From: 2019-12-29\n",
      "Until: 2019-12-31\n",
      "Test Data is added...\n",
      "Calculating Forecast until: 2020-01-03 00:00:00+00:00\n",
      "last training timestep:     2020-01-02 23:40:00+00:00\n"
     ]
    },
    {
     "name": "stderr",
     "output_type": "stream",
     "text": [
      "/Users/gabriel/anaconda3/envs/nf/lib/python3.6/site-packages/statsmodels/base/model.py:512: ConvergenceWarning: Maximum Likelihood optimization failed to converge. Check mle_retvals\n",
      "  \"Check mle_retvals\", ConvergenceWarning)\n"
     ]
    },
    {
     "name": "stdout",
     "output_type": "stream",
     "text": [
      "Making Predictions for uuid: be4995cf-ad24-4777-9d73-3cbffe2fa715:\n",
      "From: 2019-12-31\n",
      "Until: 2020-01-02\n",
      "Test Data is added...\n",
      "Calculating Forecast until: 2020-01-05 00:00:00+00:00\n",
      "last training timestep:     2020-01-04 23:40:00+00:00\n",
      "Making Predictions for uuid: be4995cf-ad24-4777-9d73-3cbffe2fa715:\n",
      "From: 2020-01-02\n",
      "Until: 2020-01-04\n",
      "Test Data is added...\n",
      "\n",
      "UUID: 51d4b654-a095-1aa0-e100-80009459e03a\n",
      "\n",
      "Calculating Forecast until: 2019-12-10 00:00:00+00:00\n",
      "last training timestep:     2019-12-09 23:40:00+00:00\n",
      "Making Predictions for uuid: 51d4b654-a095-1aa0-e100-80009459e03a:\n",
      "From: 2019-12-07\n",
      "Until: 2019-12-09\n",
      "Test Data is added...\n",
      "Calculating Forecast until: 2019-12-12 00:00:00+00:00\n",
      "last training timestep:     2019-12-11 23:40:00+00:00\n",
      "Making Predictions for uuid: 51d4b654-a095-1aa0-e100-80009459e03a:\n",
      "From: 2019-12-09\n",
      "Until: 2019-12-11\n",
      "Test Data is added...\n",
      "Calculating Forecast until: 2019-12-14 00:00:00+00:00\n",
      "last training timestep:     2019-12-13 23:40:00+00:00\n"
     ]
    },
    {
     "name": "stderr",
     "output_type": "stream",
     "text": [
      "/Users/gabriel/anaconda3/envs/nf/lib/python3.6/site-packages/statsmodels/base/model.py:512: ConvergenceWarning: Maximum Likelihood optimization failed to converge. Check mle_retvals\n",
      "  \"Check mle_retvals\", ConvergenceWarning)\n"
     ]
    },
    {
     "name": "stdout",
     "output_type": "stream",
     "text": [
      "Making Predictions for uuid: 51d4b654-a095-1aa0-e100-80009459e03a:\n",
      "From: 2019-12-11\n",
      "Until: 2019-12-13\n",
      "Test Data is added...\n",
      "Calculating Forecast until: 2019-12-16 00:00:00+00:00\n",
      "last training timestep:     2019-12-15 23:40:00+00:00\n"
     ]
    },
    {
     "name": "stderr",
     "output_type": "stream",
     "text": [
      "/Users/gabriel/anaconda3/envs/nf/lib/python3.6/site-packages/statsmodels/base/model.py:512: ConvergenceWarning: Maximum Likelihood optimization failed to converge. Check mle_retvals\n",
      "  \"Check mle_retvals\", ConvergenceWarning)\n"
     ]
    },
    {
     "name": "stdout",
     "output_type": "stream",
     "text": [
      "Making Predictions for uuid: 51d4b654-a095-1aa0-e100-80009459e03a:\n",
      "From: 2019-12-13\n",
      "Until: 2019-12-15\n",
      "Test Data is added...\n",
      "Calculating Forecast until: 2019-12-18 00:00:00+00:00\n",
      "last training timestep:     2019-12-17 23:40:00+00:00\n"
     ]
    },
    {
     "name": "stderr",
     "output_type": "stream",
     "text": [
      "/Users/gabriel/anaconda3/envs/nf/lib/python3.6/site-packages/statsmodels/base/model.py:512: ConvergenceWarning: Maximum Likelihood optimization failed to converge. Check mle_retvals\n",
      "  \"Check mle_retvals\", ConvergenceWarning)\n"
     ]
    },
    {
     "name": "stdout",
     "output_type": "stream",
     "text": [
      "Making Predictions for uuid: 51d4b654-a095-1aa0-e100-80009459e03a:\n",
      "From: 2019-12-15\n",
      "Until: 2019-12-17\n",
      "Test Data is added...\n",
      "Calculating Forecast until: 2019-12-20 00:00:00+00:00\n",
      "last training timestep:     2019-12-19 23:40:00+00:00\n"
     ]
    },
    {
     "name": "stderr",
     "output_type": "stream",
     "text": [
      "/Users/gabriel/anaconda3/envs/nf/lib/python3.6/site-packages/statsmodels/base/model.py:512: ConvergenceWarning: Maximum Likelihood optimization failed to converge. Check mle_retvals\n",
      "  \"Check mle_retvals\", ConvergenceWarning)\n"
     ]
    },
    {
     "name": "stdout",
     "output_type": "stream",
     "text": [
      "Making Predictions for uuid: 51d4b654-a095-1aa0-e100-80009459e03a:\n",
      "From: 2019-12-17\n",
      "Until: 2019-12-19\n",
      "Test Data is added...\n",
      "Calculating Forecast until: 2019-12-22 00:00:00+00:00\n",
      "last training timestep:     2019-12-21 23:40:00+00:00\n"
     ]
    },
    {
     "name": "stderr",
     "output_type": "stream",
     "text": [
      "/Users/gabriel/anaconda3/envs/nf/lib/python3.6/site-packages/statsmodels/base/model.py:512: ConvergenceWarning: Maximum Likelihood optimization failed to converge. Check mle_retvals\n",
      "  \"Check mle_retvals\", ConvergenceWarning)\n"
     ]
    },
    {
     "name": "stdout",
     "output_type": "stream",
     "text": [
      "Making Predictions for uuid: 51d4b654-a095-1aa0-e100-80009459e03a:\n",
      "From: 2019-12-19\n",
      "Until: 2019-12-21\n",
      "Test Data is added...\n",
      "Calculating Forecast until: 2019-12-24 00:00:00+00:00\n",
      "last training timestep:     2019-12-23 23:40:00+00:00\n"
     ]
    },
    {
     "name": "stderr",
     "output_type": "stream",
     "text": [
      "/Users/gabriel/anaconda3/envs/nf/lib/python3.6/site-packages/statsmodels/base/model.py:512: ConvergenceWarning: Maximum Likelihood optimization failed to converge. Check mle_retvals\n",
      "  \"Check mle_retvals\", ConvergenceWarning)\n"
     ]
    },
    {
     "name": "stdout",
     "output_type": "stream",
     "text": [
      "Making Predictions for uuid: 51d4b654-a095-1aa0-e100-80009459e03a:\n",
      "From: 2019-12-21\n",
      "Until: 2019-12-23\n",
      "Test Data is added...\n",
      "Calculating Forecast until: 2019-12-26 00:00:00+00:00\n",
      "last training timestep:     2019-12-25 23:40:00+00:00\n"
     ]
    },
    {
     "name": "stderr",
     "output_type": "stream",
     "text": [
      "/Users/gabriel/anaconda3/envs/nf/lib/python3.6/site-packages/statsmodels/base/model.py:512: ConvergenceWarning: Maximum Likelihood optimization failed to converge. Check mle_retvals\n",
      "  \"Check mle_retvals\", ConvergenceWarning)\n"
     ]
    },
    {
     "name": "stdout",
     "output_type": "stream",
     "text": [
      "Making Predictions for uuid: 51d4b654-a095-1aa0-e100-80009459e03a:\n",
      "From: 2019-12-23\n",
      "Until: 2019-12-25\n",
      "Test Data is added...\n",
      "Calculating Forecast until: 2019-12-28 00:00:00+00:00\n",
      "last training timestep:     2019-12-27 23:40:00+00:00\n"
     ]
    },
    {
     "name": "stderr",
     "output_type": "stream",
     "text": [
      "/Users/gabriel/anaconda3/envs/nf/lib/python3.6/site-packages/statsmodels/base/model.py:512: ConvergenceWarning: Maximum Likelihood optimization failed to converge. Check mle_retvals\n",
      "  \"Check mle_retvals\", ConvergenceWarning)\n"
     ]
    },
    {
     "name": "stdout",
     "output_type": "stream",
     "text": [
      "Making Predictions for uuid: 51d4b654-a095-1aa0-e100-80009459e03a:\n",
      "From: 2019-12-25\n",
      "Until: 2019-12-27\n",
      "Test Data is added...\n",
      "Calculating Forecast until: 2019-12-30 00:00:00+00:00\n",
      "last training timestep:     2019-12-29 23:40:00+00:00\n"
     ]
    },
    {
     "name": "stderr",
     "output_type": "stream",
     "text": [
      "/Users/gabriel/anaconda3/envs/nf/lib/python3.6/site-packages/statsmodels/base/model.py:512: ConvergenceWarning: Maximum Likelihood optimization failed to converge. Check mle_retvals\n",
      "  \"Check mle_retvals\", ConvergenceWarning)\n"
     ]
    },
    {
     "name": "stdout",
     "output_type": "stream",
     "text": [
      "Making Predictions for uuid: 51d4b654-a095-1aa0-e100-80009459e03a:\n",
      "From: 2019-12-27\n",
      "Until: 2019-12-29\n",
      "Test Data is added...\n",
      "Calculating Forecast until: 2020-01-01 00:00:00+00:00\n",
      "last training timestep:     2019-12-31 23:40:00+00:00\n"
     ]
    },
    {
     "name": "stderr",
     "output_type": "stream",
     "text": [
      "/Users/gabriel/anaconda3/envs/nf/lib/python3.6/site-packages/statsmodels/base/model.py:512: ConvergenceWarning: Maximum Likelihood optimization failed to converge. Check mle_retvals\n",
      "  \"Check mle_retvals\", ConvergenceWarning)\n"
     ]
    },
    {
     "name": "stdout",
     "output_type": "stream",
     "text": [
      "Making Predictions for uuid: 51d4b654-a095-1aa0-e100-80009459e03a:\n",
      "From: 2019-12-29\n",
      "Until: 2019-12-31\n",
      "Test Data is added...\n",
      "Calculating Forecast until: 2020-01-03 00:00:00+00:00\n",
      "last training timestep:     2020-01-02 23:40:00+00:00\n"
     ]
    },
    {
     "name": "stderr",
     "output_type": "stream",
     "text": [
      "/Users/gabriel/anaconda3/envs/nf/lib/python3.6/site-packages/statsmodels/base/model.py:512: ConvergenceWarning: Maximum Likelihood optimization failed to converge. Check mle_retvals\n",
      "  \"Check mle_retvals\", ConvergenceWarning)\n"
     ]
    },
    {
     "name": "stdout",
     "output_type": "stream",
     "text": [
      "Making Predictions for uuid: 51d4b654-a095-1aa0-e100-80009459e03a:\n",
      "From: 2019-12-31\n",
      "Until: 2020-01-02\n",
      "Test Data is added...\n",
      "Calculating Forecast until: 2020-01-05 00:00:00+00:00\n",
      "last training timestep:     2020-01-04 23:40:00+00:00\n"
     ]
    },
    {
     "name": "stderr",
     "output_type": "stream",
     "text": [
      "/Users/gabriel/anaconda3/envs/nf/lib/python3.6/site-packages/statsmodels/base/model.py:512: ConvergenceWarning: Maximum Likelihood optimization failed to converge. Check mle_retvals\n",
      "  \"Check mle_retvals\", ConvergenceWarning)\n"
     ]
    },
    {
     "name": "stdout",
     "output_type": "stream",
     "text": [
      "Making Predictions for uuid: 51d4b654-a095-1aa0-e100-80009459e03a:\n",
      "From: 2020-01-02\n",
      "Until: 2020-01-04\n",
      "Test Data is added...\n",
      "\n",
      "UUID: bb335c3f-8431-4f19-a740-2cda1a890e56\n",
      "\n",
      "Calculating Forecast until: 2019-12-10 00:00:00+00:00\n",
      "last training timestep:     2019-12-09 23:40:00+00:00\n",
      "Making Predictions for uuid: bb335c3f-8431-4f19-a740-2cda1a890e56:\n",
      "From: 2019-12-07\n",
      "Until: 2019-12-09\n",
      "Test Data is added...\n",
      "Calculating Forecast until: 2019-12-12 00:00:00+00:00\n",
      "last training timestep:     2019-12-11 23:40:00+00:00\n",
      "Making Predictions for uuid: bb335c3f-8431-4f19-a740-2cda1a890e56:\n",
      "From: 2019-12-09\n",
      "Until: 2019-12-11\n",
      "Test Data is added...\n",
      "Calculating Forecast until: 2019-12-14 00:00:00+00:00\n",
      "last training timestep:     2019-12-13 23:40:00+00:00\n"
     ]
    },
    {
     "name": "stderr",
     "output_type": "stream",
     "text": [
      "/Users/gabriel/anaconda3/envs/nf/lib/python3.6/site-packages/statsmodels/base/model.py:512: ConvergenceWarning: Maximum Likelihood optimization failed to converge. Check mle_retvals\n",
      "  \"Check mle_retvals\", ConvergenceWarning)\n"
     ]
    },
    {
     "name": "stdout",
     "output_type": "stream",
     "text": [
      "Making Predictions for uuid: bb335c3f-8431-4f19-a740-2cda1a890e56:\n",
      "From: 2019-12-11\n",
      "Until: 2019-12-13\n",
      "Test Data is added...\n",
      "Calculating Forecast until: 2019-12-16 00:00:00+00:00\n",
      "last training timestep:     2019-12-15 23:40:00+00:00\n",
      "Making Predictions for uuid: bb335c3f-8431-4f19-a740-2cda1a890e56:\n",
      "From: 2019-12-13\n",
      "Until: 2019-12-15\n",
      "Test Data is added...\n",
      "Calculating Forecast until: 2019-12-18 00:00:00+00:00\n",
      "last training timestep:     2019-12-17 23:40:00+00:00\n",
      "Making Predictions for uuid: bb335c3f-8431-4f19-a740-2cda1a890e56:\n",
      "From: 2019-12-15\n",
      "Until: 2019-12-17\n",
      "Test Data is added...\n",
      "Calculating Forecast until: 2019-12-20 00:00:00+00:00\n",
      "last training timestep:     2019-12-19 23:40:00+00:00\n",
      "Making Predictions for uuid: bb335c3f-8431-4f19-a740-2cda1a890e56:\n",
      "From: 2019-12-17\n",
      "Until: 2019-12-19\n",
      "Test Data is added...\n",
      "Calculating Forecast until: 2019-12-22 00:00:00+00:00\n",
      "last training timestep:     2019-12-21 23:40:00+00:00\n",
      "Making Predictions for uuid: bb335c3f-8431-4f19-a740-2cda1a890e56:\n",
      "From: 2019-12-19\n",
      "Until: 2019-12-21\n",
      "Test Data is added...\n",
      "Calculating Forecast until: 2019-12-24 00:00:00+00:00\n",
      "last training timestep:     2019-12-23 23:40:00+00:00\n",
      "Making Predictions for uuid: bb335c3f-8431-4f19-a740-2cda1a890e56:\n",
      "From: 2019-12-21\n",
      "Until: 2019-12-23\n",
      "Test Data is added...\n",
      "Calculating Forecast until: 2019-12-26 00:00:00+00:00\n",
      "last training timestep:     2019-12-25 23:40:00+00:00\n"
     ]
    },
    {
     "name": "stderr",
     "output_type": "stream",
     "text": [
      "/Users/gabriel/anaconda3/envs/nf/lib/python3.6/site-packages/statsmodels/base/model.py:512: ConvergenceWarning: Maximum Likelihood optimization failed to converge. Check mle_retvals\n",
      "  \"Check mle_retvals\", ConvergenceWarning)\n"
     ]
    },
    {
     "name": "stdout",
     "output_type": "stream",
     "text": [
      "Making Predictions for uuid: bb335c3f-8431-4f19-a740-2cda1a890e56:\n",
      "From: 2019-12-23\n",
      "Until: 2019-12-25\n",
      "Test Data is added...\n",
      "Calculating Forecast until: 2019-12-28 00:00:00+00:00\n",
      "last training timestep:     2019-12-27 23:40:00+00:00\n"
     ]
    },
    {
     "name": "stderr",
     "output_type": "stream",
     "text": [
      "/Users/gabriel/anaconda3/envs/nf/lib/python3.6/site-packages/statsmodels/base/model.py:512: ConvergenceWarning: Maximum Likelihood optimization failed to converge. Check mle_retvals\n",
      "  \"Check mle_retvals\", ConvergenceWarning)\n"
     ]
    },
    {
     "name": "stdout",
     "output_type": "stream",
     "text": [
      "Making Predictions for uuid: bb335c3f-8431-4f19-a740-2cda1a890e56:\n",
      "From: 2019-12-25\n",
      "Until: 2019-12-27\n",
      "Test Data is added...\n",
      "Calculating Forecast until: 2019-12-30 00:00:00+00:00\n",
      "last training timestep:     2019-12-29 23:40:00+00:00\n"
     ]
    },
    {
     "name": "stderr",
     "output_type": "stream",
     "text": [
      "/Users/gabriel/anaconda3/envs/nf/lib/python3.6/site-packages/statsmodels/base/model.py:512: ConvergenceWarning: Maximum Likelihood optimization failed to converge. Check mle_retvals\n",
      "  \"Check mle_retvals\", ConvergenceWarning)\n"
     ]
    },
    {
     "name": "stdout",
     "output_type": "stream",
     "text": [
      "Making Predictions for uuid: bb335c3f-8431-4f19-a740-2cda1a890e56:\n",
      "From: 2019-12-27\n",
      "Until: 2019-12-29\n",
      "Test Data is added...\n",
      "Calculating Forecast until: 2020-01-01 00:00:00+00:00\n",
      "last training timestep:     2019-12-31 23:40:00+00:00\n",
      "Making Predictions for uuid: bb335c3f-8431-4f19-a740-2cda1a890e56:\n",
      "From: 2019-12-29\n",
      "Until: 2019-12-31\n",
      "Test Data is added...\n",
      "Calculating Forecast until: 2020-01-03 00:00:00+00:00\n",
      "last training timestep:     2020-01-02 23:40:00+00:00\n"
     ]
    },
    {
     "name": "stderr",
     "output_type": "stream",
     "text": [
      "/Users/gabriel/anaconda3/envs/nf/lib/python3.6/site-packages/statsmodels/base/model.py:512: ConvergenceWarning: Maximum Likelihood optimization failed to converge. Check mle_retvals\n",
      "  \"Check mle_retvals\", ConvergenceWarning)\n"
     ]
    },
    {
     "name": "stdout",
     "output_type": "stream",
     "text": [
      "Making Predictions for uuid: bb335c3f-8431-4f19-a740-2cda1a890e56:\n",
      "From: 2019-12-31\n",
      "Until: 2020-01-02\n",
      "Test Data is added...\n",
      "Calculating Forecast until: 2020-01-05 00:00:00+00:00\n",
      "last training timestep:     2020-01-04 23:40:00+00:00\n"
     ]
    },
    {
     "name": "stderr",
     "output_type": "stream",
     "text": [
      "/Users/gabriel/anaconda3/envs/nf/lib/python3.6/site-packages/statsmodels/base/model.py:512: ConvergenceWarning: Maximum Likelihood optimization failed to converge. Check mle_retvals\n",
      "  \"Check mle_retvals\", ConvergenceWarning)\n"
     ]
    },
    {
     "name": "stdout",
     "output_type": "stream",
     "text": [
      "Making Predictions for uuid: bb335c3f-8431-4f19-a740-2cda1a890e56:\n",
      "From: 2020-01-02\n",
      "Until: 2020-01-04\n",
      "Test Data is added...\n",
      "\n",
      "UUID: d0235369-10e6-4862-8b27-66c03ddace6b\n",
      "\n",
      "Calculating Forecast until: 2019-12-10 00:00:00+00:00\n",
      "last training timestep:     2019-12-09 23:40:00+00:00\n"
     ]
    },
    {
     "name": "stderr",
     "output_type": "stream",
     "text": [
      "/Users/gabriel/anaconda3/envs/nf/lib/python3.6/site-packages/statsmodels/base/model.py:512: ConvergenceWarning: Maximum Likelihood optimization failed to converge. Check mle_retvals\n",
      "  \"Check mle_retvals\", ConvergenceWarning)\n"
     ]
    },
    {
     "name": "stdout",
     "output_type": "stream",
     "text": [
      "Making Predictions for uuid: d0235369-10e6-4862-8b27-66c03ddace6b:\n",
      "From: 2019-12-07\n",
      "Until: 2019-12-09\n",
      "Test Data is added...\n",
      "Calculating Forecast until: 2019-12-12 00:00:00+00:00\n"
     ]
    },
    {
     "name": "stderr",
     "output_type": "stream",
     "text": [
      "/Users/gabriel/anaconda3/envs/nf/lib/python3.6/site-packages/statsmodels/base/model.py:512: ConvergenceWarning: Maximum Likelihood optimization failed to converge. Check mle_retvals\n",
      "  \"Check mle_retvals\", ConvergenceWarning)\n"
     ]
    },
    {
     "name": "stdout",
     "output_type": "stream",
     "text": [
      "last training timestep:     2019-12-11 23:40:00+00:00\n",
      "Making Predictions for uuid: d0235369-10e6-4862-8b27-66c03ddace6b:\n",
      "From: 2019-12-09\n",
      "Until: 2019-12-11\n",
      "Test Data is added...\n",
      "Calculating Forecast until: 2019-12-14 00:00:00+00:00\n",
      "last training timestep:     2019-12-13 23:40:00+00:00\n"
     ]
    },
    {
     "name": "stderr",
     "output_type": "stream",
     "text": [
      "/Users/gabriel/anaconda3/envs/nf/lib/python3.6/site-packages/statsmodels/base/model.py:512: ConvergenceWarning: Maximum Likelihood optimization failed to converge. Check mle_retvals\n",
      "  \"Check mle_retvals\", ConvergenceWarning)\n"
     ]
    },
    {
     "name": "stdout",
     "output_type": "stream",
     "text": [
      "Making Predictions for uuid: d0235369-10e6-4862-8b27-66c03ddace6b:\n",
      "From: 2019-12-11\n",
      "Until: 2019-12-13\n",
      "Test Data is added...\n",
      "Calculating Forecast until: 2019-12-16 00:00:00+00:00\n",
      "last training timestep:     2019-12-15 23:40:00+00:00\n",
      "Making Predictions for uuid: d0235369-10e6-4862-8b27-66c03ddace6b:\n",
      "From: 2019-12-13\n",
      "Until: 2019-12-15\n",
      "Test Data is added...\n",
      "Calculating Forecast until: 2019-12-18 00:00:00+00:00\n",
      "last training timestep:     2019-12-17 23:40:00+00:00\n"
     ]
    },
    {
     "name": "stderr",
     "output_type": "stream",
     "text": [
      "/Users/gabriel/anaconda3/envs/nf/lib/python3.6/site-packages/statsmodels/base/model.py:512: ConvergenceWarning: Maximum Likelihood optimization failed to converge. Check mle_retvals\n",
      "  \"Check mle_retvals\", ConvergenceWarning)\n"
     ]
    },
    {
     "name": "stdout",
     "output_type": "stream",
     "text": [
      "Making Predictions for uuid: d0235369-10e6-4862-8b27-66c03ddace6b:\n",
      "From: 2019-12-15\n",
      "Until: 2019-12-17\n",
      "Test Data is added...\n",
      "Calculating Forecast until: 2019-12-20 00:00:00+00:00\n",
      "last training timestep:     2019-12-19 23:40:00+00:00\n",
      "Making Predictions for uuid: d0235369-10e6-4862-8b27-66c03ddace6b:\n",
      "From: 2019-12-17\n",
      "Until: 2019-12-19\n",
      "Test Data is added...\n",
      "Calculating Forecast until: 2019-12-22 00:00:00+00:00\n",
      "last training timestep:     2019-12-21 23:40:00+00:00\n",
      "Making Predictions for uuid: d0235369-10e6-4862-8b27-66c03ddace6b:\n",
      "From: 2019-12-19\n",
      "Until: 2019-12-21\n",
      "Test Data is added...\n",
      "Calculating Forecast until: 2019-12-24 00:00:00+00:00\n",
      "last training timestep:     2019-12-23 23:40:00+00:00\n",
      "Making Predictions for uuid: d0235369-10e6-4862-8b27-66c03ddace6b:\n",
      "From: 2019-12-21\n",
      "Until: 2019-12-23\n",
      "Test Data is added...\n",
      "Calculating Forecast until: 2019-12-26 00:00:00+00:00\n",
      "last training timestep:     2019-12-25 23:40:00+00:00\n"
     ]
    },
    {
     "name": "stderr",
     "output_type": "stream",
     "text": [
      "/Users/gabriel/anaconda3/envs/nf/lib/python3.6/site-packages/statsmodels/base/model.py:512: ConvergenceWarning: Maximum Likelihood optimization failed to converge. Check mle_retvals\n",
      "  \"Check mle_retvals\", ConvergenceWarning)\n"
     ]
    },
    {
     "name": "stdout",
     "output_type": "stream",
     "text": [
      "Making Predictions for uuid: d0235369-10e6-4862-8b27-66c03ddace6b:\n",
      "From: 2019-12-23\n",
      "Until: 2019-12-25\n",
      "Test Data is added...\n",
      "Calculating Forecast until: 2019-12-28 00:00:00+00:00\n",
      "last training timestep:     2019-12-27 23:40:00+00:00\n"
     ]
    },
    {
     "name": "stderr",
     "output_type": "stream",
     "text": [
      "/Users/gabriel/anaconda3/envs/nf/lib/python3.6/site-packages/statsmodels/base/model.py:512: ConvergenceWarning: Maximum Likelihood optimization failed to converge. Check mle_retvals\n",
      "  \"Check mle_retvals\", ConvergenceWarning)\n"
     ]
    },
    {
     "name": "stdout",
     "output_type": "stream",
     "text": [
      "Making Predictions for uuid: d0235369-10e6-4862-8b27-66c03ddace6b:\n",
      "From: 2019-12-25\n",
      "Until: 2019-12-27\n",
      "Test Data is added...\n",
      "Calculating Forecast until: 2019-12-30 00:00:00+00:00\n",
      "last training timestep:     2019-12-29 23:40:00+00:00\n",
      "Making Predictions for uuid: d0235369-10e6-4862-8b27-66c03ddace6b:\n",
      "From: 2019-12-27\n",
      "Until: 2019-12-29\n",
      "Test Data is added...\n",
      "Calculating Forecast until: 2020-01-01 00:00:00+00:00\n",
      "last training timestep:     2019-12-31 23:40:00+00:00\n"
     ]
    },
    {
     "name": "stderr",
     "output_type": "stream",
     "text": [
      "/Users/gabriel/anaconda3/envs/nf/lib/python3.6/site-packages/statsmodels/base/model.py:512: ConvergenceWarning: Maximum Likelihood optimization failed to converge. Check mle_retvals\n",
      "  \"Check mle_retvals\", ConvergenceWarning)\n"
     ]
    },
    {
     "name": "stdout",
     "output_type": "stream",
     "text": [
      "Making Predictions for uuid: d0235369-10e6-4862-8b27-66c03ddace6b:\n",
      "From: 2019-12-29\n",
      "Until: 2019-12-31\n",
      "Test Data is added...\n",
      "Calculating Forecast until: 2020-01-03 00:00:00+00:00\n",
      "last training timestep:     2020-01-02 23:40:00+00:00\n"
     ]
    },
    {
     "name": "stderr",
     "output_type": "stream",
     "text": [
      "/Users/gabriel/anaconda3/envs/nf/lib/python3.6/site-packages/statsmodels/base/model.py:512: ConvergenceWarning: Maximum Likelihood optimization failed to converge. Check mle_retvals\n",
      "  \"Check mle_retvals\", ConvergenceWarning)\n"
     ]
    },
    {
     "name": "stdout",
     "output_type": "stream",
     "text": [
      "Making Predictions for uuid: d0235369-10e6-4862-8b27-66c03ddace6b:\n",
      "From: 2019-12-31\n",
      "Until: 2020-01-02\n",
      "Test Data is added...\n",
      "Calculating Forecast until: 2020-01-05 00:00:00+00:00\n",
      "last training timestep:     2020-01-04 23:40:00+00:00\n"
     ]
    },
    {
     "name": "stderr",
     "output_type": "stream",
     "text": [
      "/Users/gabriel/anaconda3/envs/nf/lib/python3.6/site-packages/statsmodels/base/model.py:512: ConvergenceWarning: Maximum Likelihood optimization failed to converge. Check mle_retvals\n",
      "  \"Check mle_retvals\", ConvergenceWarning)\n"
     ]
    },
    {
     "name": "stdout",
     "output_type": "stream",
     "text": [
      "Making Predictions for uuid: d0235369-10e6-4862-8b27-66c03ddace6b:\n",
      "From: 2020-01-02\n",
      "Until: 2020-01-04\n",
      "Test Data is added...\n",
      "\n",
      "UUID: e6ae45e8-49ca-4fe4-a396-865657fcf313\n",
      "\n",
      "Calculating Forecast until: 2019-12-10 00:00:00+00:00\n",
      "last training timestep:     2019-12-09 23:40:00+00:00\n",
      "Making Predictions for uuid: e6ae45e8-49ca-4fe4-a396-865657fcf313:\n",
      "From: 2019-12-07\n",
      "Until: 2019-12-09\n",
      "Test Data is added...\n",
      "Calculating Forecast until: 2019-12-12 00:00:00+00:00\n",
      "last training timestep:     2019-12-11 23:40:00+00:00\n",
      "Making Predictions for uuid: e6ae45e8-49ca-4fe4-a396-865657fcf313:\n",
      "From: 2019-12-09\n",
      "Until: 2019-12-11\n",
      "Test Data is added...\n",
      "Calculating Forecast until: 2019-12-14 00:00:00+00:00\n",
      "last training timestep:     2019-12-13 23:40:00+00:00\n",
      "Making Predictions for uuid: e6ae45e8-49ca-4fe4-a396-865657fcf313:\n",
      "From: 2019-12-11\n",
      "Until: 2019-12-13\n",
      "Test Data is added...\n",
      "Calculating Forecast until: 2019-12-16 00:00:00+00:00\n",
      "last training timestep:     2019-12-15 23:40:00+00:00\n",
      "Making Predictions for uuid: e6ae45e8-49ca-4fe4-a396-865657fcf313:\n",
      "From: 2019-12-13\n",
      "Until: 2019-12-15\n",
      "Test Data is added...\n",
      "Calculating Forecast until: 2019-12-18 00:00:00+00:00\n",
      "last training timestep:     2019-12-17 23:40:00+00:00\n",
      "Making Predictions for uuid: e6ae45e8-49ca-4fe4-a396-865657fcf313:\n",
      "From: 2019-12-15\n",
      "Until: 2019-12-17\n",
      "Test Data is added...\n",
      "Calculating Forecast until: 2019-12-20 00:00:00+00:00\n",
      "last training timestep:     2019-12-19 23:40:00+00:00\n",
      "Making Predictions for uuid: e6ae45e8-49ca-4fe4-a396-865657fcf313:\n",
      "From: 2019-12-17\n",
      "Until: 2019-12-19\n",
      "Test Data is added...\n",
      "Calculating Forecast until: 2019-12-22 00:00:00+00:00\n",
      "last training timestep:     2019-12-21 23:40:00+00:00\n",
      "Making Predictions for uuid: e6ae45e8-49ca-4fe4-a396-865657fcf313:\n",
      "From: 2019-12-19\n",
      "Until: 2019-12-21\n",
      "Test Data is added...\n",
      "Calculating Forecast until: 2019-12-24 00:00:00+00:00\n",
      "last training timestep:     2019-12-23 23:40:00+00:00\n"
     ]
    },
    {
     "name": "stderr",
     "output_type": "stream",
     "text": [
      "/Users/gabriel/anaconda3/envs/nf/lib/python3.6/site-packages/statsmodels/base/model.py:512: ConvergenceWarning: Maximum Likelihood optimization failed to converge. Check mle_retvals\n",
      "  \"Check mle_retvals\", ConvergenceWarning)\n"
     ]
    },
    {
     "name": "stdout",
     "output_type": "stream",
     "text": [
      "Making Predictions for uuid: e6ae45e8-49ca-4fe4-a396-865657fcf313:\n",
      "From: 2019-12-21\n",
      "Until: 2019-12-23\n",
      "Test Data is added...\n",
      "Calculating Forecast until: 2019-12-26 00:00:00+00:00\n",
      "last training timestep:     2019-12-25 23:40:00+00:00\n",
      "Making Predictions for uuid: e6ae45e8-49ca-4fe4-a396-865657fcf313:\n",
      "From: 2019-12-23\n",
      "Until: 2019-12-25\n",
      "Test Data is added...\n",
      "Calculating Forecast until: 2019-12-28 00:00:00+00:00\n",
      "last training timestep:     2019-12-27 23:40:00+00:00\n",
      "Making Predictions for uuid: e6ae45e8-49ca-4fe4-a396-865657fcf313:\n",
      "From: 2019-12-25\n",
      "Until: 2019-12-27\n",
      "Test Data is added...\n",
      "Calculating Forecast until: 2019-12-30 00:00:00+00:00\n",
      "last training timestep:     2019-12-29 23:40:00+00:00\n",
      "Making Predictions for uuid: e6ae45e8-49ca-4fe4-a396-865657fcf313:\n",
      "From: 2019-12-27\n",
      "Until: 2019-12-29\n",
      "Test Data is added...\n",
      "Calculating Forecast until: 2020-01-01 00:00:00+00:00\n",
      "last training timestep:     2019-12-31 23:40:00+00:00\n"
     ]
    },
    {
     "name": "stderr",
     "output_type": "stream",
     "text": [
      "/Users/gabriel/anaconda3/envs/nf/lib/python3.6/site-packages/statsmodels/base/model.py:512: ConvergenceWarning: Maximum Likelihood optimization failed to converge. Check mle_retvals\n",
      "  \"Check mle_retvals\", ConvergenceWarning)\n"
     ]
    },
    {
     "name": "stdout",
     "output_type": "stream",
     "text": [
      "Making Predictions for uuid: e6ae45e8-49ca-4fe4-a396-865657fcf313:\n",
      "From: 2019-12-29\n",
      "Until: 2019-12-31\n",
      "Test Data is added...\n",
      "Calculating Forecast until: 2020-01-03 00:00:00+00:00\n",
      "last training timestep:     2020-01-02 23:40:00+00:00\n"
     ]
    },
    {
     "name": "stderr",
     "output_type": "stream",
     "text": [
      "/Users/gabriel/anaconda3/envs/nf/lib/python3.6/site-packages/statsmodels/base/model.py:512: ConvergenceWarning: Maximum Likelihood optimization failed to converge. Check mle_retvals\n",
      "  \"Check mle_retvals\", ConvergenceWarning)\n"
     ]
    },
    {
     "name": "stdout",
     "output_type": "stream",
     "text": [
      "Making Predictions for uuid: e6ae45e8-49ca-4fe4-a396-865657fcf313:\n",
      "From: 2019-12-31\n",
      "Until: 2020-01-02\n",
      "Test Data is added...\n",
      "Calculating Forecast until: 2020-01-05 00:00:00+00:00\n",
      "last training timestep:     2020-01-04 23:40:00+00:00\n",
      "Making Predictions for uuid: e6ae45e8-49ca-4fe4-a396-865657fcf313:\n",
      "From: 2020-01-02\n",
      "Until: 2020-01-04\n",
      "Test Data is added...\n"
     ]
    }
   ],
   "source": [
    "uuids = df_uuid.uuid.to_list()\n",
    "df_forecast = rt.make_rolling_forecast(df_ts, uuids, first_day_forecast, last_day_forecast)"
   ]
  },
  {
   "cell_type": "markdown",
   "metadata": {},
   "source": [
    "## If forecast already exists, load the pickel"
   ]
  },
  {
   "cell_type": "code",
   "execution_count": 80,
   "metadata": {},
   "outputs": [],
   "source": [
    "df_forecast = pd.read_pickle('./data/df_forecast_big.pkl')"
   ]
  },
  {
   "cell_type": "code",
   "execution_count": 81,
   "metadata": {},
   "outputs": [],
   "source": [
    "driving_profile = pd.read_pickle('./data/driving_profile.pkl')\n",
    "driving_profile.loc[:, ['refueling_date','refueling_pos_lat', 'refueling_pos_long', 'refueling_vol', 'refueling_uuid', 'refueling_price', 'refueling_cost']] = 0\n",
    "driving_profile.loc[1:, 'fuel_vol_start'] = 0\n",
    "driving_profile.loc[1:, 'fuel_vol_end'] = 0\n",
    "car_consumption = 15.4\n",
    "car_fuel_vol = 85"
   ]
  },
  {
   "cell_type": "code",
   "execution_count": 83,
   "metadata": {},
   "outputs": [
    {
     "name": "stdout",
     "output_type": "stream",
     "text": [
      "No price for gas station with uuid: 9b75b95b-a0c2-4921-ae09-f5da4969a486 and timestamp: 2019-12-11 08:28:00+00:00 available\n",
      "No price for gas station with uuid: 9b75b95b-a0c2-4921-ae09-f5da4969a486 and timestamp: 2019-12-11 17:10:00+00:00 available\n",
      "No price for gas station with uuid: 9b75b95b-a0c2-4921-ae09-f5da4969a486 and timestamp: 2019-12-11 08:28:00+00:00 available\n",
      "No price for gas station with uuid: 9b75b95b-a0c2-4921-ae09-f5da4969a486 and timestamp: 2019-12-11 17:10:00+00:00 available\n",
      "No price for gas station with uuid: 9b75b95b-a0c2-4921-ae09-f5da4969a486 and timestamp: 2019-12-18 08:28:00+00:00 available\n",
      "No price for gas station with uuid: 9b75b95b-a0c2-4921-ae09-f5da4969a486 and timestamp: 2019-12-18 17:10:00+00:00 available\n",
      "No price for gas station with uuid: 9b75b95b-a0c2-4921-ae09-f5da4969a486 and timestamp: 2019-12-18 08:28:00+00:00 available\n",
      "No price for gas station with uuid: 9b75b95b-a0c2-4921-ae09-f5da4969a486 and timestamp: 2019-12-18 17:10:00+00:00 available\n",
      "No price for gas station with uuid: 9b75b95b-a0c2-4921-ae09-f5da4969a486 and timestamp: 2019-12-25 08:28:00+00:00 available\n",
      "No price for gas station with uuid: 9b75b95b-a0c2-4921-ae09-f5da4969a486 and timestamp: 2019-12-25 17:10:00+00:00 available\n",
      "No price for gas station with uuid: 9b75b95b-a0c2-4921-ae09-f5da4969a486 and timestamp: 2019-12-25 08:28:00+00:00 available\n",
      "No price for gas station with uuid: 9b75b95b-a0c2-4921-ae09-f5da4969a486 and timestamp: 2019-12-25 17:10:00+00:00 available\n",
      "No price for gas station with uuid: 9b75b95b-a0c2-4921-ae09-f5da4969a486 and timestamp: 2020-01-01 08:28:00+00:00 available\n",
      "No price for gas station with uuid: 9b75b95b-a0c2-4921-ae09-f5da4969a486 and timestamp: 2020-01-01 17:10:00+00:00 available\n",
      "No price for gas station with uuid: 9b75b95b-a0c2-4921-ae09-f5da4969a486 and timestamp: 2020-01-01 08:28:00+00:00 available\n",
      "No price for gas station with uuid: 9b75b95b-a0c2-4921-ae09-f5da4969a486 and timestamp: 2020-01-01 17:10:00+00:00 available\n"
     ]
    }
   ],
   "source": [
    "dp_new = rt.calculate_refuel_cost(dp)"
   ]
  },
  {
   "cell_type": "code",
   "execution_count": 86,
   "metadata": {},
   "outputs": [
    {
     "name": "stdout",
     "output_type": "stream",
     "text": [
      "0.0\n"
     ]
    },
    {
     "data": {
      "text/plain": [
       "558.9584"
      ]
     },
     "execution_count": 86,
     "metadata": {},
     "output_type": "execute_result"
    }
   ],
   "source": [
    "#compare: theoretical consum \n",
    "sum_trip_consum = dp_new.trip_con.sum()    \n",
    "calc_consum = dp_new.refuel_vol.sum() + car_fuel_vol - dp_new.fuel_vol_end.values[-2]\n",
    "\n",
    "print(sum_trip_consum - calc_consum)\n",
    "calc_consum"
   ]
  },
  {
   "cell_type": "code",
   "execution_count": 87,
   "metadata": {},
   "outputs": [
    {
     "data": {
      "text/plain": [
       "672.8981028"
      ]
     },
     "execution_count": 87,
     "metadata": {},
     "output_type": "execute_result"
    }
   ],
   "source": [
    "dp.refuel_cost.sum()"
   ]
  }
 ],
 "metadata": {
  "kernelspec": {
   "display_name": "Python [conda env:nf] *",
   "language": "python",
   "name": "conda-env-nf-py"
  },
  "language_info": {
   "codemirror_mode": {
    "name": "ipython",
    "version": 3
   },
   "file_extension": ".py",
   "mimetype": "text/x-python",
   "name": "python",
   "nbconvert_exporter": "python",
   "pygments_lexer": "ipython3",
   "version": "3.6.6"
  }
 },
 "nbformat": 4,
 "nbformat_minor": 2
}
