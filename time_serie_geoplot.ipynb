{
 "cells": [
  {
   "cell_type": "markdown",
   "metadata": {},
   "source": [
    "# In this notebook a time series of gas station prices is visualized with the help of folium"
   ]
  },
  {
   "cell_type": "code",
   "execution_count": 1,
   "metadata": {},
   "outputs": [],
   "source": [
    "import refuel_tools as rt\n",
    "import pandas as pd\n",
    "import numpy as np\n",
    "import matplotlib.pyplot as plt\n",
    "import seaborn as sns\n",
    "from sklearn.preprocessing import MinMaxScaler\n",
    "import glob\n",
    "from os import listdir\n",
    "import folium\n",
    "from folium.plugins import TimestampedGeoJson\n",
    "import refuel_tools as rt"
   ]
  },
  {
   "cell_type": "code",
   "execution_count": 2,
   "metadata": {},
   "outputs": [],
   "source": [
    "# Important variables:\n",
    "\n",
    "# Center of HAMBURG - Used a the center to find the surounding gas stations\n",
    "cof_hamburg = [53.572990, 10.028677]\n",
    "\n",
    "# Number of gas station to plot\n",
    "k = 50\n",
    "\n",
    "# Number of days\n",
    "n = 1\n",
    "\n",
    "# Sample Rate for resampling the data\n",
    "sample_rate = '1min'\n",
    "\n",
    "# Fuel type e5, e10, or diesel as string\n",
    "fuel_type = 'e5'\n"
   ]
  },
  {
   "cell_type": "markdown",
   "metadata": {},
   "source": [
    "## Load the price data"
   ]
  },
  {
   "cell_type": "code",
   "execution_count": 3,
   "metadata": {},
   "outputs": [],
   "source": [
    "# Load the raw csv price data to a pandas dataframe\n",
    "\n",
    "df = rt.load_data_from_csv(timespan=n)"
   ]
  },
  {
   "cell_type": "markdown",
   "metadata": {},
   "source": [
    "## Load gas station data\n"
   ]
  },
  {
   "cell_type": "code",
   "execution_count": 4,
   "metadata": {},
   "outputs": [],
   "source": [
    "df_stations = pd.read_csv('./tankerkoenig-data/stations/2019/11/2019-11-08-stations.csv')"
   ]
  },
  {
   "cell_type": "markdown",
   "metadata": {},
   "source": [
    "## Get the uuids for the gas stations in question"
   ]
  },
  {
   "cell_type": "code",
   "execution_count": 5,
   "metadata": {},
   "outputs": [],
   "source": [
    "# Get the stations in Hamburg\n",
    "df_uuid = rt.get_station_uuid_df(df_stations, cof_hamburg, k=k)"
   ]
  },
  {
   "cell_type": "markdown",
   "metadata": {},
   "source": [
    "## Convert prices to continuous time series"
   ]
  },
  {
   "cell_type": "code",
   "execution_count": 6,
   "metadata": {},
   "outputs": [
    {
     "name": "stderr",
     "output_type": "stream",
     "text": [
      "/Users/gabriel/anaconda3/envs/nf/lib/python3.6/site-packages/pandas/core/frame.py:4117: SettingWithCopyWarning: \n",
      "A value is trying to be set on a copy of a slice from a DataFrame\n",
      "\n",
      "See the caveats in the documentation: http://pandas.pydata.org/pandas-docs/stable/user_guide/indexing.html#returning-a-view-versus-a-copy\n",
      "  errors=errors,\n"
     ]
    }
   ],
   "source": [
    "df_ts = rt.make_timeseries(df, df_uuid, cutoff_days=7, sample_rate=sample_rate)"
   ]
  },
  {
   "cell_type": "markdown",
   "metadata": {},
   "source": [
    "## Scale the data and add the color "
   ]
  },
  {
   "cell_type": "code",
   "execution_count": 7,
   "metadata": {},
   "outputs": [
    {
     "data": {
      "image/png": "[encoded data removed]",
      "text/plain": [
       "<Figure size 720x72 with 1 Axes>"
      ]
     },
     "metadata": {
      "needs_background": "light"
     },
     "output_type": "display_data"
    }
   ],
   "source": [
    "color_scale = ['#2166ac', '#4393c3', '#92c5de', '#d1e5f0', '#f7f7f7', '#fddbc7', '#f4a582', '#d6604d', '#b2182b', '#67001f']\n",
    "sns.palplot(sns.color_palette(color_scale))\n",
    "bin_edges_e5 = np.linspace(0, 1, len(color_scale))"
   ]
  },
  {
   "cell_type": "code",
   "execution_count": 8,
   "metadata": {},
   "outputs": [],
   "source": [
    "def color_coding(poll, bin_edges):    \n",
    "    idx = np.digitize(poll, bin_edges, right=True)\n",
    "    return color_scale[idx]"
   ]
  },
  {
   "cell_type": "code",
   "execution_count": 9,
   "metadata": {},
   "outputs": [],
   "source": [
    "scaler = MinMaxScaler()\n",
    "df_ts[fuel_type] = scaler.fit_transform(df_ts[[fuel_type]])\n",
    "df_ts['color'] = df_ts.e5.apply(color_coding, bin_edges=bin_edges_e5)"
   ]
  },
  {
   "cell_type": "markdown",
   "metadata": {},
   "source": [
    "## Convert dataframe to dict"
   ]
  },
  {
   "cell_type": "code",
   "execution_count": 11,
   "metadata": {},
   "outputs": [],
   "source": [
    "def create_geojson_features(df):\n",
    "    \"\"\"\n",
    "    This function takes in a pandas dataframe and creates a dict fitting for the folium plot.\n",
    "    Input dataframe has to contain the following coloums: longitude, latitude, color\n",
    "    \n",
    "    INPUT:\n",
    "        df = [dataframe] containing the data to plot. \n",
    "        \n",
    "    OUTPUT:\n",
    "        dict = [dict] in the shape folium wants it.\n",
    "    \"\"\"\n",
    "    features = []\n",
    "    for _, row in df.iterrows():\n",
    "        feature = {\n",
    "            'type': 'Feature',\n",
    "            'geometry': {\n",
    "                'type':'Point', \n",
    "                'coordinates':[row.longitude,row.latitude]\n",
    "            },\n",
    "            'properties': {\n",
    "                'time': row.date.__str__()[:-9],\n",
    "                'style': {'color' : row.color},\n",
    "                'icon': 'circle',\n",
    "                'iconstyle':{\n",
    "                    'fillColor': row.color,\n",
    "                    'fillOpacity': 0.8,\n",
    "                    'stroke': 'true',\n",
    "                    'radius': 7\n",
    "                }\n",
    "            }\n",
    "        }\n",
    "        features.append(feature)\n",
    "    return features"
   ]
  },
  {
   "cell_type": "code",
   "execution_count": 12,
   "metadata": {},
   "outputs": [],
   "source": [
    "df_ts.reset_index(inplace=True)\n",
    "features = rt.create_geojson_features(df_ts)"
   ]
  },
  {
   "cell_type": "markdown",
   "metadata": {},
   "source": [
    "## Plot "
   ]
  },
  {
   "cell_type": "code",
   "execution_count": 19,
   "metadata": {},
   "outputs": [],
   "source": [
    "def make_map(features, location):\n",
    "    print('> Making map...')\n",
    "    price_map = folium.Map(location=location, \n",
    "                               control_scale=True, \n",
    "                               zoom_start=12,\n",
    "                               #tiles = \"CartoDB Positron\"\n",
    "                               tiles = 'cartodbdark_matter'\n",
    "                              )\n",
    "\n",
    "    TimestampedGeoJson(\n",
    "        {'type': 'FeatureCollection',\n",
    "        'features': features}\n",
    "        , period='PT1M'\n",
    "        , add_last_point=False\n",
    "        , auto_play=False\n",
    "        , loop=True\n",
    "        , max_speed=16\n",
    "        , loop_button=True\n",
    "        , date_options='YYYY/MM/DD HH:MM'\n",
    "        , time_slider_drag_update=True\n",
    "    ).add_to(price_map)\n",
    "    print('> Done.')\n",
    "    return price_map"
   ]
  },
  {
   "cell_type": "code",
   "execution_count": 20,
   "metadata": {},
   "outputs": [
    {
     "name": "stdout",
     "output_type": "stream",
     "text": [
      "> Making map...\n",
      "> Done.\n"
     ]
    }
   ],
   "source": [
    "location = cof_hamburg\n",
    "station_map = make_map(features, location)\n",
    "station_map.save('./plots/time_series_geoplot_k_{}_days_{}_sample_rate_{}_new.html'.format(k,n,sample_rate))"
   ]
  }
 ],
 "metadata": {
  "kernelspec": {
   "display_name": "Python [conda env:nf] *",
   "language": "python",
   "name": "conda-env-nf-py"
  },
  "language_info": {
   "codemirror_mode": {
    "name": "ipython",
    "version": 3
   },
   "file_extension": ".py",
   "mimetype": "text/x-python",
   "name": "python",
   "nbconvert_exporter": "python",
   "pygments_lexer": "ipython3",
   "version": "3.6.6"
  }
 },
 "nbformat": 4,
 "nbformat_minor": 2
}
